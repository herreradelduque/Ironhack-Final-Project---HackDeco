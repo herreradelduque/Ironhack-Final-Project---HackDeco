{
 "cells": [
  {
   "cell_type": "markdown",
   "metadata": {},
   "source": [
    "# Ikea scraper"
   ]
  },
  {
   "cell_type": "markdown",
   "metadata": {},
   "source": [
    "## Installation"
   ]
  },
  {
   "cell_type": "code",
   "execution_count": 1,
   "metadata": {},
   "outputs": [],
   "source": [
    "#!pip install selenium"
   ]
  },
  {
   "cell_type": "markdown",
   "metadata": {},
   "source": [
    "### Driver"
   ]
  },
  {
   "cell_type": "code",
   "execution_count": 2,
   "metadata": {},
   "outputs": [],
   "source": [
    "# it is necessary to add the driver to the PATH variable\n",
    "import os\n",
    "\n",
    "os.environ['PATH'] = f'{os.environ[\"PATH\"]}:{os.getcwd()}/drivers'"
   ]
  },
  {
   "cell_type": "code",
   "execution_count": 3,
   "metadata": {},
   "outputs": [
    {
     "data": {
      "text/plain": [
       "'/Users/victorgalan/miniconda3/envs/proj_env/bin:/Users/victorgalan/miniconda3/condabin:/usr/local/bin:/usr/bin:/bin:/usr/sbin:/sbin:/Library/Apple/usr/bin:/Users/victorgalan/miniconda3/bin:/Users/victorgalan/miniconda3/condabin:/Users/victorgalan/ironhack/git/projects/Ironhack-Final-Project---FurniTour_31032020/Notebooks/ikea_scraper/drivers'"
      ]
     },
     "execution_count": 3,
     "metadata": {},
     "output_type": "execute_result"
    }
   ],
   "source": [
    "os.environ['PATH']"
   ]
  },
  {
   "cell_type": "markdown",
   "metadata": {},
   "source": [
    "I have downloaded and installed geckodriver for MacOS from https://github.com/mozilla/geckodriver/releases"
   ]
  },
  {
   "cell_type": "markdown",
   "metadata": {},
   "source": [
    "## Imports:"
   ]
  },
  {
   "cell_type": "code",
   "execution_count": 4,
   "metadata": {},
   "outputs": [],
   "source": [
    "from selenium import webdriver\n",
    "import time \n",
    "import numpy as np\n",
    "import pandas as pd\n",
    "\n",
    "from selenium.webdriver.common.keys import Keys\n",
    "from selenium.common.exceptions import *\n",
    "from selenium.webdriver.support.ui import WebDriverWait\n",
    "\n",
    "\n",
    "\n",
    "import urllib.request as ulib\n",
    "from bs4 import BeautifulSoup\n",
    "import ast\n",
    "\n",
    "import regex as re"
   ]
  },
  {
   "cell_type": "markdown",
   "metadata": {},
   "source": [
    "### Getting some fresh Ikea pics"
   ]
  },
  {
   "cell_type": "code",
   "execution_count": 5,
   "metadata": {},
   "outputs": [],
   "source": [
    "shop = 'ikea'\n",
    "product = 'Sillas'\n",
    "directory = 'img_' + shop + '_' + product"
   ]
  },
  {
   "cell_type": "code",
   "execution_count": 6,
   "metadata": {},
   "outputs": [
    {
     "data": {
      "text/plain": [
       "'img_ikea_Sillas'"
      ]
     },
     "execution_count": 6,
     "metadata": {},
     "output_type": "execute_result"
    }
   ],
   "source": [
    "directory"
   ]
  },
  {
   "cell_type": "code",
   "execution_count": 7,
   "metadata": {},
   "outputs": [
    {
     "data": {
      "text/plain": [
       "\" #trials with DBR:\\nuser_selected_product = 'http://myapp.net/search?product=Sillas'\\n\""
      ]
     },
     "execution_count": 7,
     "metadata": {},
     "output_type": "execute_result"
    }
   ],
   "source": [
    "''' #trials with DBR:\n",
    "user_selected_product = 'http://myapp.net/search?product=Sillas'\n",
    "'''"
   ]
  },
  {
   "cell_type": "code",
   "execution_count": 8,
   "metadata": {},
   "outputs": [
    {
     "data": {
      "text/plain": [
       "\"product = user_selected_product.replace('http://myapp.net/search?product=','')\\nproduct\""
      ]
     },
     "execution_count": 8,
     "metadata": {},
     "output_type": "execute_result"
    }
   ],
   "source": [
    "'''product = user_selected_product.replace('http://myapp.net/search?product=','')\n",
    "product'''"
   ]
  },
  {
   "cell_type": "markdown",
   "metadata": {},
   "source": [
    "## Launch Firefox:"
   ]
  },
  {
   "cell_type": "code",
   "execution_count": 9,
   "metadata": {},
   "outputs": [],
   "source": [
    "driver = webdriver.Firefox()\n",
    "\n",
    "url_ikea = 'https://www.ikea.com/es/es/cat/productos-products/'\n",
    "driver.get(url_ikea)"
   ]
  },
  {
   "cell_type": "code",
   "execution_count": 10,
   "metadata": {},
   "outputs": [
    {
     "name": "stdout",
     "output_type": "stream",
     "text": [
      "Load more: 1\n",
      "Load more: 2\n",
      "Load more: 3\n",
      "Load more: 4\n",
      "Load more: 5\n",
      "Load more: 6\n",
      "Load more: 7\n",
      "Load more: 8\n",
      "Load more: 9\n",
      "Load more: 10\n",
      "Load more: 11\n",
      "Load more: 12\n",
      "Load more: 13\n",
      "Load more: 14\n",
      "Load more: 15\n",
      "Load more: 16\n",
      "Load more: 17\n",
      "Load more: 18\n",
      "Load more: 19\n",
      "Load more: 20\n",
      "Load more: 21\n",
      "Load more: 22\n",
      "Load more: 23\n",
      "Load more: 24\n",
      "Load more: 25\n",
      "Load more: 26\n",
      "Load more: 27\n",
      "Load more: 28\n",
      "Load more: 29\n",
      "Load more: 30\n",
      "Load more: 31\n",
      "Load more: 32\n",
      "Load more: 33\n",
      "Load more: 34\n",
      "Load more: 35\n",
      "Load more: 36\n",
      "Load more: 37\n",
      "Load more: 38\n",
      "Load more: 39\n",
      "Resuming\n"
     ]
    }
   ],
   "source": [
    "if product == 'Sillas':\n",
    "    product_tag = 'Todas las sillas'\n",
    "\n",
    "link = driver.find_element_by_link_text(product_tag)    \n",
    "link.click()\n",
    "\n",
    "time.sleep(1)\n",
    "\n",
    "\n",
    "try:\n",
    "    count = 0\n",
    "    while True:\n",
    "        continue_link = driver.find_element_by_partial_link_text('Cargar más')\n",
    "        continue_link.click()\n",
    "        time.sleep(1)\n",
    "        count += 1\n",
    "        print(f'Load more: {count}')\n",
    "    pass\n",
    "    print('Reached the last element')\n",
    "\n",
    "\n",
    "except:\n",
    "    pass\n",
    "    \n",
    "finally:\n",
    "    print('Resuming')\n",
    "    pass"
   ]
  },
  {
   "cell_type": "code",
   "execution_count": 11,
   "metadata": {},
   "outputs": [],
   "source": [
    "# Take urls of all the products images:"
   ]
  },
  {
   "cell_type": "code",
   "execution_count": 12,
   "metadata": {},
   "outputs": [
    {
     "data": {
      "text/plain": [
       "['https://www.ikea.com/es/es/images/products/fanbyn-chair-white__0587379_PE672586_S5.JPG?f=xs',\n",
       " 'https://www.ikea.com/es/es/images/products/leifarne-chair__0745133_PE743594_S5.JPG?f=xs',\n",
       " 'https://www.ikea.com/es/es/images/products/ekedalen-chair-white-orrsta-light-grey__0728310_PE736178_S5.JPG?f=xs',\n",
       " 'https://www.ikea.com/es/es/images/products/odger-swivel-chair-white-beige__0734069_PE739278_S5.JPG?f=xs',\n",
       " 'https://www.ikea.com/es/es/images/products/torparoe-armchair-in-outdoor-white-beige__0812003_PE771902_S5.JPG?f=xs']"
      ]
     },
     "execution_count": 12,
     "metadata": {},
     "output_type": "execute_result"
    }
   ],
   "source": [
    "page = driver.page_source\n",
    "soup = BeautifulSoup(page, 'html.parser')\n",
    "\n",
    "\n",
    "image_list = []\n",
    "\n",
    "for link in soup.find_all('img'):\n",
    "    src = link.get('src')\n",
    "    if src.startswith('https://www.ikea.com/es/es/images/products/'): #check src starts with...\n",
    "        image_list.append(src)\n",
    "        \n",
    "image_list[0:5]\n"
   ]
  },
  {
   "cell_type": "code",
   "execution_count": 13,
   "metadata": {},
   "outputs": [],
   "source": [
    "# Take the urls to buy all the products:"
   ]
  },
  {
   "cell_type": "code",
   "execution_count": 14,
   "metadata": {},
   "outputs": [
    {
     "data": {
      "text/plain": [
       "['https://www.ikea.com/es/es/p/fanbyn-silla-blanco-s49228474/',\n",
       " 'https://www.ikea.com/es/es/p/leifarne-silla-amarillo-oscuro-ernfrid-abedul-s69304216/',\n",
       " 'https://www.ikea.com/es/es/p/ekedalen-silla-blanco-orrsta-gris-claro-60341015/',\n",
       " 'https://www.ikea.com/es/es/p/odger-silla-giratoria-blanco-beige-70308685/',\n",
       " 'https://www.ikea.com/es/es/p/torparo-silla-con-reposabrz-int-ext-blanco-beige-90420761/']"
      ]
     },
     "execution_count": 14,
     "metadata": {},
     "output_type": "execute_result"
    }
   ],
   "source": [
    "buy_url_list = []\n",
    "buy_url_list_unique = []\n",
    "\n",
    "\n",
    "all_a = soup.select('.product-compact__spacer a')\n",
    "\n",
    "for a in all_a:\n",
    "    buy_url_list.append(a['href'])\n",
    "        \n",
    "for i in buy_url_list:\n",
    "    if i not in buy_url_list_unique:\n",
    "        if 'openPopup=fiche' not in i:\n",
    "            buy_url_list_unique.append(i)\n",
    "\n",
    "buy_url_list_unique[0:5]"
   ]
  },
  {
   "cell_type": "code",
   "execution_count": 15,
   "metadata": {},
   "outputs": [],
   "source": [
    "# Take the name of all products:"
   ]
  },
  {
   "cell_type": "code",
   "execution_count": 16,
   "metadata": {},
   "outputs": [
    {
     "data": {
      "text/plain": [
       "['FANBYN', 'LEIFARNE', 'EKEDALEN', 'ODGER', 'TORPARÖ']"
      ]
     },
     "execution_count": 16,
     "metadata": {},
     "output_type": "execute_result"
    }
   ],
   "source": [
    "product_names_list = []\n",
    "\n",
    "names = soup.select('div.product-compact__spacer span.product-compact__name')\n",
    "for name in names:\n",
    "    product_names_list.append(name.text)\n",
    "    \n",
    "product_names_list[0:5]\n"
   ]
  },
  {
   "cell_type": "code",
   "execution_count": 17,
   "metadata": {},
   "outputs": [],
   "source": [
    "# Take the type of product:"
   ]
  },
  {
   "cell_type": "code",
   "execution_count": 18,
   "metadata": {},
   "outputs": [
    {
     "data": {
      "text/plain": [
       "['Silla', 'Silla', 'Silla', 'Silla giratoria', 'Silla con reposabrz int/ext']"
      ]
     },
     "execution_count": 18,
     "metadata": {},
     "output_type": "execute_result"
    }
   ],
   "source": [
    "product_types_list = []\n",
    "\n",
    "types = soup.select('div.product-compact__spacer span.product-compact__type')\n",
    "for type_ in types:\n",
    "    product_types_list.append(((type_.text).replace('\\n','')).strip().replace('         ',''))\n",
    "\n",
    "product_types_list[0:5]\n"
   ]
  },
  {
   "cell_type": "code",
   "execution_count": 19,
   "metadata": {},
   "outputs": [],
   "source": [
    "# Take the price of every product:"
   ]
  },
  {
   "cell_type": "code",
   "execution_count": 20,
   "metadata": {},
   "outputs": [
    {
     "data": {
      "text/plain": [
       "['45€', '55€', '45€', '89€', '25€']"
      ]
     },
     "execution_count": 20,
     "metadata": {},
     "output_type": "execute_result"
    }
   ],
   "source": [
    "product_price_list = []\n",
    "\n",
    "prices = soup.select('div.product-compact__spacer span.product-compact__price__value')\n",
    "for price in prices:\n",
    "    product_price_list.append(price.text)\n",
    "\n",
    "product_price_list[0:5]"
   ]
  },
  {
   "cell_type": "code",
   "execution_count": 21,
   "metadata": {},
   "outputs": [],
   "source": [
    "# Create field image path"
   ]
  },
  {
   "cell_type": "code",
   "execution_count": 45,
   "metadata": {},
   "outputs": [],
   "source": [
    "images_path_list = []\n",
    "\n",
    "imgs_path = soup.select('div.product-compact__spacer span.product-compact__name')\n",
    "for i,img_path in enumerate(imgs_path):\n",
    "    path_0 = '../data/'\n",
    "    path_1 = os.path.join(directory,'{:04}.jpg'.format(i))\n",
    "    path = path_0 + path_1\n",
    "    images_path_list.append(path)"
   ]
  },
  {
   "cell_type": "markdown",
   "metadata": {},
   "source": [
    "## Create function to save scrapped images"
   ]
  },
  {
   "cell_type": "code",
   "execution_count": 23,
   "metadata": {},
   "outputs": [],
   "source": [
    "def save_img(url,directory):\n",
    "    if not os.path.isdir(directory):\n",
    "        os.mkdir(directory)\n",
    "\n",
    "    for i,link in enumerate(url):\n",
    "        path = os.path.join(directory,'{:04}.jpg'.format(i))\n",
    "        try:\n",
    "            ulib.urlretrieve(link,path)\n",
    "        except:\n",
    "            print('Failed: ')\n",
    "\n",
    "# save_img(image_list,directory)"
   ]
  },
  {
   "cell_type": "markdown",
   "metadata": {},
   "source": [
    "# Check the lengths of the lists:"
   ]
  },
  {
   "cell_type": "code",
   "execution_count": 24,
   "metadata": {},
   "outputs": [
    {
     "data": {
      "text/plain": [
       "944"
      ]
     },
     "execution_count": 24,
     "metadata": {},
     "output_type": "execute_result"
    }
   ],
   "source": [
    "len(image_list)"
   ]
  },
  {
   "cell_type": "code",
   "execution_count": 25,
   "metadata": {},
   "outputs": [
    {
     "data": {
      "text/plain": [
       "944"
      ]
     },
     "execution_count": 25,
     "metadata": {},
     "output_type": "execute_result"
    }
   ],
   "source": [
    "len(buy_url_list_unique)"
   ]
  },
  {
   "cell_type": "code",
   "execution_count": 26,
   "metadata": {},
   "outputs": [
    {
     "data": {
      "text/plain": [
       "944"
      ]
     },
     "execution_count": 26,
     "metadata": {},
     "output_type": "execute_result"
    }
   ],
   "source": [
    "len(product_names_list)"
   ]
  },
  {
   "cell_type": "code",
   "execution_count": 27,
   "metadata": {},
   "outputs": [
    {
     "data": {
      "text/plain": [
       "944"
      ]
     },
     "execution_count": 27,
     "metadata": {},
     "output_type": "execute_result"
    }
   ],
   "source": [
    "len(product_types_list)"
   ]
  },
  {
   "cell_type": "code",
   "execution_count": 28,
   "metadata": {},
   "outputs": [
    {
     "data": {
      "text/plain": [
       "944"
      ]
     },
     "execution_count": 28,
     "metadata": {},
     "output_type": "execute_result"
    }
   ],
   "source": [
    "len(product_price_list)"
   ]
  },
  {
   "cell_type": "code",
   "execution_count": 46,
   "metadata": {},
   "outputs": [
    {
     "data": {
      "text/plain": [
       "944"
      ]
     },
     "execution_count": 46,
     "metadata": {},
     "output_type": "execute_result"
    }
   ],
   "source": [
    "len(images_path_list)"
   ]
  },
  {
   "cell_type": "code",
   "execution_count": 47,
   "metadata": {},
   "outputs": [],
   "source": [
    "scraped_dict = {'Type':product_types_list,'Local_Path':images_path_list,'Name':product_names_list,'Price':product_price_list,'Image_url':image_list,'Buy_url':buy_url_list_unique}"
   ]
  },
  {
   "cell_type": "markdown",
   "metadata": {},
   "source": [
    "# Create DataFrame:"
   ]
  },
  {
   "cell_type": "code",
   "execution_count": 48,
   "metadata": {},
   "outputs": [],
   "source": [
    "furnitures_df = pd.DataFrame(scraped_dict)"
   ]
  },
  {
   "cell_type": "code",
   "execution_count": 49,
   "metadata": {},
   "outputs": [
    {
     "data": {
      "text/html": [
       "<div>\n",
       "<style scoped>\n",
       "    .dataframe tbody tr th:only-of-type {\n",
       "        vertical-align: middle;\n",
       "    }\n",
       "\n",
       "    .dataframe tbody tr th {\n",
       "        vertical-align: top;\n",
       "    }\n",
       "\n",
       "    .dataframe thead th {\n",
       "        text-align: right;\n",
       "    }\n",
       "</style>\n",
       "<table border=\"1\" class=\"dataframe\">\n",
       "  <thead>\n",
       "    <tr style=\"text-align: right;\">\n",
       "      <th></th>\n",
       "      <th>Type</th>\n",
       "      <th>Local_Path</th>\n",
       "      <th>Name</th>\n",
       "      <th>Price</th>\n",
       "      <th>Image_url</th>\n",
       "      <th>Buy_url</th>\n",
       "    </tr>\n",
       "  </thead>\n",
       "  <tbody>\n",
       "    <tr>\n",
       "      <th>0</th>\n",
       "      <td>Silla</td>\n",
       "      <td>../data/img_ikea_Sillas/0000.jpg</td>\n",
       "      <td>FANBYN</td>\n",
       "      <td>45€</td>\n",
       "      <td>https://www.ikea.com/es/es/images/products/fan...</td>\n",
       "      <td>https://www.ikea.com/es/es/p/fanbyn-silla-blan...</td>\n",
       "    </tr>\n",
       "    <tr>\n",
       "      <th>1</th>\n",
       "      <td>Silla</td>\n",
       "      <td>../data/img_ikea_Sillas/0001.jpg</td>\n",
       "      <td>LEIFARNE</td>\n",
       "      <td>55€</td>\n",
       "      <td>https://www.ikea.com/es/es/images/products/lei...</td>\n",
       "      <td>https://www.ikea.com/es/es/p/leifarne-silla-am...</td>\n",
       "    </tr>\n",
       "    <tr>\n",
       "      <th>2</th>\n",
       "      <td>Silla</td>\n",
       "      <td>../data/img_ikea_Sillas/0002.jpg</td>\n",
       "      <td>EKEDALEN</td>\n",
       "      <td>45€</td>\n",
       "      <td>https://www.ikea.com/es/es/images/products/eke...</td>\n",
       "      <td>https://www.ikea.com/es/es/p/ekedalen-silla-bl...</td>\n",
       "    </tr>\n",
       "    <tr>\n",
       "      <th>3</th>\n",
       "      <td>Silla giratoria</td>\n",
       "      <td>../data/img_ikea_Sillas/0003.jpg</td>\n",
       "      <td>ODGER</td>\n",
       "      <td>89€</td>\n",
       "      <td>https://www.ikea.com/es/es/images/products/odg...</td>\n",
       "      <td>https://www.ikea.com/es/es/p/odger-silla-girat...</td>\n",
       "    </tr>\n",
       "    <tr>\n",
       "      <th>4</th>\n",
       "      <td>Silla con reposabrz int/ext</td>\n",
       "      <td>../data/img_ikea_Sillas/0004.jpg</td>\n",
       "      <td>TORPARÖ</td>\n",
       "      <td>25€</td>\n",
       "      <td>https://www.ikea.com/es/es/images/products/tor...</td>\n",
       "      <td>https://www.ikea.com/es/es/p/torparo-silla-con...</td>\n",
       "    </tr>\n",
       "    <tr>\n",
       "      <th>...</th>\n",
       "      <td>...</td>\n",
       "      <td>...</td>\n",
       "      <td>...</td>\n",
       "      <td>...</td>\n",
       "      <td>...</td>\n",
       "      <td>...</td>\n",
       "    </tr>\n",
       "    <tr>\n",
       "      <th>939</th>\n",
       "      <td>Mecedora</td>\n",
       "      <td>../data/img_ikea_Sillas/0939.jpg</td>\n",
       "      <td>POÄNG</td>\n",
       "      <td>159€</td>\n",
       "      <td>https://www.ikea.com/es/es/images/products/poa...</td>\n",
       "      <td>https://www.ikea.com/es/es/p/poang-mecedora-ch...</td>\n",
       "    </tr>\n",
       "    <tr>\n",
       "      <th>940</th>\n",
       "      <td>Mesa con 4 sillas, 145 cm</td>\n",
       "      <td>../data/img_ikea_Sillas/0940.jpg</td>\n",
       "      <td>MÖRBYLÅNGA / TOSSBERG</td>\n",
       "      <td>1.215€</td>\n",
       "      <td>https://www.ikea.com/es/es/images/products/moe...</td>\n",
       "      <td>https://www.ikea.com/es/es/p/morbylanga-tossbe...</td>\n",
       "    </tr>\n",
       "    <tr>\n",
       "      <th>941</th>\n",
       "      <td>Mesa con 4 sillas, 130/190x80 cm</td>\n",
       "      <td>../data/img_ikea_Sillas/0941.jpg</td>\n",
       "      <td>LANEBERG / KARLJAN</td>\n",
       "      <td>285€</td>\n",
       "      <td>https://www.ikea.com/es/es/images/products/lan...</td>\n",
       "      <td>https://www.ikea.com/es/es/p/laneberg-karljan-...</td>\n",
       "    </tr>\n",
       "    <tr>\n",
       "      <th>942</th>\n",
       "      <td>Mesa con 4 sillas, 152/223x95 cm</td>\n",
       "      <td>../data/img_ikea_Sillas/0942.jpg</td>\n",
       "      <td>NORDVIKEN / RÖNNINGE</td>\n",
       "      <td>615€</td>\n",
       "      <td>https://www.ikea.com/es/es/images/products/nor...</td>\n",
       "      <td>https://www.ikea.com/es/es/p/nordviken-ronning...</td>\n",
       "    </tr>\n",
       "    <tr>\n",
       "      <th>943</th>\n",
       "      <td>Mesa con 4 sillas, 152/223x95 cm</td>\n",
       "      <td>../data/img_ikea_Sillas/0943.jpg</td>\n",
       "      <td>NORDVIKEN / LEIFARNE</td>\n",
       "      <td>438,96€</td>\n",
       "      <td>https://www.ikea.com/es/es/images/products/nor...</td>\n",
       "      <td>https://www.ikea.com/es/es/p/nordviken-leifarn...</td>\n",
       "    </tr>\n",
       "  </tbody>\n",
       "</table>\n",
       "<p>944 rows × 6 columns</p>\n",
       "</div>"
      ],
      "text/plain": [
       "                                 Type                        Local_Path  \\\n",
       "0                               Silla  ../data/img_ikea_Sillas/0000.jpg   \n",
       "1                               Silla  ../data/img_ikea_Sillas/0001.jpg   \n",
       "2                               Silla  ../data/img_ikea_Sillas/0002.jpg   \n",
       "3                     Silla giratoria  ../data/img_ikea_Sillas/0003.jpg   \n",
       "4         Silla con reposabrz int/ext  ../data/img_ikea_Sillas/0004.jpg   \n",
       "..                                ...                               ...   \n",
       "939                          Mecedora  ../data/img_ikea_Sillas/0939.jpg   \n",
       "940         Mesa con 4 sillas, 145 cm  ../data/img_ikea_Sillas/0940.jpg   \n",
       "941  Mesa con 4 sillas, 130/190x80 cm  ../data/img_ikea_Sillas/0941.jpg   \n",
       "942  Mesa con 4 sillas, 152/223x95 cm  ../data/img_ikea_Sillas/0942.jpg   \n",
       "943  Mesa con 4 sillas, 152/223x95 cm  ../data/img_ikea_Sillas/0943.jpg   \n",
       "\n",
       "                      Name    Price  \\\n",
       "0                   FANBYN      45€   \n",
       "1                 LEIFARNE      55€   \n",
       "2                 EKEDALEN      45€   \n",
       "3                    ODGER      89€   \n",
       "4                  TORPARÖ      25€   \n",
       "..                     ...      ...   \n",
       "939                  POÄNG     159€   \n",
       "940  MÖRBYLÅNGA / TOSSBERG   1.215€   \n",
       "941     LANEBERG / KARLJAN     285€   \n",
       "942   NORDVIKEN / RÖNNINGE     615€   \n",
       "943   NORDVIKEN / LEIFARNE  438,96€   \n",
       "\n",
       "                                             Image_url  \\\n",
       "0    https://www.ikea.com/es/es/images/products/fan...   \n",
       "1    https://www.ikea.com/es/es/images/products/lei...   \n",
       "2    https://www.ikea.com/es/es/images/products/eke...   \n",
       "3    https://www.ikea.com/es/es/images/products/odg...   \n",
       "4    https://www.ikea.com/es/es/images/products/tor...   \n",
       "..                                                 ...   \n",
       "939  https://www.ikea.com/es/es/images/products/poa...   \n",
       "940  https://www.ikea.com/es/es/images/products/moe...   \n",
       "941  https://www.ikea.com/es/es/images/products/lan...   \n",
       "942  https://www.ikea.com/es/es/images/products/nor...   \n",
       "943  https://www.ikea.com/es/es/images/products/nor...   \n",
       "\n",
       "                                               Buy_url  \n",
       "0    https://www.ikea.com/es/es/p/fanbyn-silla-blan...  \n",
       "1    https://www.ikea.com/es/es/p/leifarne-silla-am...  \n",
       "2    https://www.ikea.com/es/es/p/ekedalen-silla-bl...  \n",
       "3    https://www.ikea.com/es/es/p/odger-silla-girat...  \n",
       "4    https://www.ikea.com/es/es/p/torparo-silla-con...  \n",
       "..                                                 ...  \n",
       "939  https://www.ikea.com/es/es/p/poang-mecedora-ch...  \n",
       "940  https://www.ikea.com/es/es/p/morbylanga-tossbe...  \n",
       "941  https://www.ikea.com/es/es/p/laneberg-karljan-...  \n",
       "942  https://www.ikea.com/es/es/p/nordviken-ronning...  \n",
       "943  https://www.ikea.com/es/es/p/nordviken-leifarn...  \n",
       "\n",
       "[944 rows x 6 columns]"
      ]
     },
     "execution_count": 49,
     "metadata": {},
     "output_type": "execute_result"
    }
   ],
   "source": [
    "furnitures_df"
   ]
  },
  {
   "cell_type": "code",
   "execution_count": 50,
   "metadata": {},
   "outputs": [
    {
     "data": {
      "text/html": [
       "<div>\n",
       "<style scoped>\n",
       "    .dataframe tbody tr th:only-of-type {\n",
       "        vertical-align: middle;\n",
       "    }\n",
       "\n",
       "    .dataframe tbody tr th {\n",
       "        vertical-align: top;\n",
       "    }\n",
       "\n",
       "    .dataframe thead th {\n",
       "        text-align: right;\n",
       "    }\n",
       "</style>\n",
       "<table border=\"1\" class=\"dataframe\">\n",
       "  <thead>\n",
       "    <tr style=\"text-align: right;\">\n",
       "      <th></th>\n",
       "      <th>Type</th>\n",
       "      <th>Local_Path</th>\n",
       "      <th>Name</th>\n",
       "      <th>Price</th>\n",
       "      <th>Image_url</th>\n",
       "      <th>Buy_url</th>\n",
       "    </tr>\n",
       "  </thead>\n",
       "  <tbody>\n",
       "    <tr>\n",
       "      <th>0</th>\n",
       "      <td>Silla</td>\n",
       "      <td>../data/img_ikea_Sillas/0000.jpg</td>\n",
       "      <td>FANBYN</td>\n",
       "      <td>45€</td>\n",
       "      <td>https://www.ikea.com/es/es/images/products/fan...</td>\n",
       "      <td>https://www.ikea.com/es/es/p/fanbyn-silla-blan...</td>\n",
       "    </tr>\n",
       "    <tr>\n",
       "      <th>1</th>\n",
       "      <td>Silla</td>\n",
       "      <td>../data/img_ikea_Sillas/0001.jpg</td>\n",
       "      <td>LEIFARNE</td>\n",
       "      <td>55€</td>\n",
       "      <td>https://www.ikea.com/es/es/images/products/lei...</td>\n",
       "      <td>https://www.ikea.com/es/es/p/leifarne-silla-am...</td>\n",
       "    </tr>\n",
       "    <tr>\n",
       "      <th>2</th>\n",
       "      <td>Silla</td>\n",
       "      <td>../data/img_ikea_Sillas/0002.jpg</td>\n",
       "      <td>EKEDALEN</td>\n",
       "      <td>45€</td>\n",
       "      <td>https://www.ikea.com/es/es/images/products/eke...</td>\n",
       "      <td>https://www.ikea.com/es/es/p/ekedalen-silla-bl...</td>\n",
       "    </tr>\n",
       "    <tr>\n",
       "      <th>5</th>\n",
       "      <td>Silla</td>\n",
       "      <td>../data/img_ikea_Sillas/0005.jpg</td>\n",
       "      <td>NORDMYRA</td>\n",
       "      <td>24,99€</td>\n",
       "      <td>https://www.ikea.com/es/es/images/products/nor...</td>\n",
       "      <td>https://www.ikea.com/es/es/p/nordmyra-silla-bl...</td>\n",
       "    </tr>\n",
       "    <tr>\n",
       "      <th>6</th>\n",
       "      <td>Silla</td>\n",
       "      <td>../data/img_ikea_Sillas/0006.jpg</td>\n",
       "      <td>TEODORES</td>\n",
       "      <td>20€</td>\n",
       "      <td>https://www.ikea.com/es/es/images/products/teo...</td>\n",
       "      <td>https://www.ikea.com/es/es/p/teodores-silla-bl...</td>\n",
       "    </tr>\n",
       "    <tr>\n",
       "      <th>...</th>\n",
       "      <td>...</td>\n",
       "      <td>...</td>\n",
       "      <td>...</td>\n",
       "      <td>...</td>\n",
       "      <td>...</td>\n",
       "      <td>...</td>\n",
       "    </tr>\n",
       "    <tr>\n",
       "      <th>785</th>\n",
       "      <td>Silla</td>\n",
       "      <td>../data/img_ikea_Sillas/0785.jpg</td>\n",
       "      <td>EKEDALEN</td>\n",
       "      <td>55€</td>\n",
       "      <td>https://www.ikea.com/es/es/images/products/eke...</td>\n",
       "      <td>https://www.ikea.com/es/es/p/ekedalen-silla-ne...</td>\n",
       "    </tr>\n",
       "    <tr>\n",
       "      <th>786</th>\n",
       "      <td>Silla</td>\n",
       "      <td>../data/img_ikea_Sillas/0786.jpg</td>\n",
       "      <td>EKEDALEN</td>\n",
       "      <td>55€</td>\n",
       "      <td>https://www.ikea.com/es/es/images/products/eke...</td>\n",
       "      <td>https://www.ikea.com/es/es/p/ekedalen-silla-ma...</td>\n",
       "    </tr>\n",
       "    <tr>\n",
       "      <th>841</th>\n",
       "      <td>Silla</td>\n",
       "      <td>../data/img_ikea_Sillas/0841.jpg</td>\n",
       "      <td>HENRIKSDAL</td>\n",
       "      <td>59€</td>\n",
       "      <td>https://www.ikea.com/es/es/images/products/hen...</td>\n",
       "      <td>https://www.ikea.com/es/es/p/henriksdal-silla-...</td>\n",
       "    </tr>\n",
       "    <tr>\n",
       "      <th>870</th>\n",
       "      <td>Silla</td>\n",
       "      <td>../data/img_ikea_Sillas/0870.jpg</td>\n",
       "      <td>HENRIKSDAL</td>\n",
       "      <td>59€</td>\n",
       "      <td>https://www.ikea.com/es/es/images/products/hen...</td>\n",
       "      <td>https://www.ikea.com/es/es/p/henriksdal-silla-...</td>\n",
       "    </tr>\n",
       "    <tr>\n",
       "      <th>892</th>\n",
       "      <td>Silla</td>\n",
       "      <td>../data/img_ikea_Sillas/0892.jpg</td>\n",
       "      <td>EKEDALEN</td>\n",
       "      <td>55€</td>\n",
       "      <td>https://www.ikea.com/es/es/images/products/eke...</td>\n",
       "      <td>https://www.ikea.com/es/es/p/ekedalen-silla-ro...</td>\n",
       "    </tr>\n",
       "  </tbody>\n",
       "</table>\n",
       "<p>125 rows × 6 columns</p>\n",
       "</div>"
      ],
      "text/plain": [
       "      Type                        Local_Path        Name   Price  \\\n",
       "0    Silla  ../data/img_ikea_Sillas/0000.jpg      FANBYN     45€   \n",
       "1    Silla  ../data/img_ikea_Sillas/0001.jpg    LEIFARNE     55€   \n",
       "2    Silla  ../data/img_ikea_Sillas/0002.jpg    EKEDALEN     45€   \n",
       "5    Silla  ../data/img_ikea_Sillas/0005.jpg    NORDMYRA  24,99€   \n",
       "6    Silla  ../data/img_ikea_Sillas/0006.jpg    TEODORES     20€   \n",
       "..     ...                               ...         ...     ...   \n",
       "785  Silla  ../data/img_ikea_Sillas/0785.jpg    EKEDALEN     55€   \n",
       "786  Silla  ../data/img_ikea_Sillas/0786.jpg    EKEDALEN     55€   \n",
       "841  Silla  ../data/img_ikea_Sillas/0841.jpg  HENRIKSDAL     59€   \n",
       "870  Silla  ../data/img_ikea_Sillas/0870.jpg  HENRIKSDAL     59€   \n",
       "892  Silla  ../data/img_ikea_Sillas/0892.jpg    EKEDALEN     55€   \n",
       "\n",
       "                                             Image_url  \\\n",
       "0    https://www.ikea.com/es/es/images/products/fan...   \n",
       "1    https://www.ikea.com/es/es/images/products/lei...   \n",
       "2    https://www.ikea.com/es/es/images/products/eke...   \n",
       "5    https://www.ikea.com/es/es/images/products/nor...   \n",
       "6    https://www.ikea.com/es/es/images/products/teo...   \n",
       "..                                                 ...   \n",
       "785  https://www.ikea.com/es/es/images/products/eke...   \n",
       "786  https://www.ikea.com/es/es/images/products/eke...   \n",
       "841  https://www.ikea.com/es/es/images/products/hen...   \n",
       "870  https://www.ikea.com/es/es/images/products/hen...   \n",
       "892  https://www.ikea.com/es/es/images/products/eke...   \n",
       "\n",
       "                                               Buy_url  \n",
       "0    https://www.ikea.com/es/es/p/fanbyn-silla-blan...  \n",
       "1    https://www.ikea.com/es/es/p/leifarne-silla-am...  \n",
       "2    https://www.ikea.com/es/es/p/ekedalen-silla-bl...  \n",
       "5    https://www.ikea.com/es/es/p/nordmyra-silla-bl...  \n",
       "6    https://www.ikea.com/es/es/p/teodores-silla-bl...  \n",
       "..                                                 ...  \n",
       "785  https://www.ikea.com/es/es/p/ekedalen-silla-ne...  \n",
       "786  https://www.ikea.com/es/es/p/ekedalen-silla-ma...  \n",
       "841  https://www.ikea.com/es/es/p/henriksdal-silla-...  \n",
       "870  https://www.ikea.com/es/es/p/henriksdal-silla-...  \n",
       "892  https://www.ikea.com/es/es/p/ekedalen-silla-ro...  \n",
       "\n",
       "[125 rows x 6 columns]"
      ]
     },
     "execution_count": 50,
     "metadata": {},
     "output_type": "execute_result"
    }
   ],
   "source": [
    "# display only 'Sillas'\n",
    "furnitures_df[furnitures_df['Type']=='Silla']"
   ]
  },
  {
   "cell_type": "code",
   "execution_count": 51,
   "metadata": {},
   "outputs": [
    {
     "data": {
      "text/html": [
       "<div>\n",
       "<style scoped>\n",
       "    .dataframe tbody tr th:only-of-type {\n",
       "        vertical-align: middle;\n",
       "    }\n",
       "\n",
       "    .dataframe tbody tr th {\n",
       "        vertical-align: top;\n",
       "    }\n",
       "\n",
       "    .dataframe thead th {\n",
       "        text-align: right;\n",
       "    }\n",
       "</style>\n",
       "<table border=\"1\" class=\"dataframe\">\n",
       "  <thead>\n",
       "    <tr style=\"text-align: right;\">\n",
       "      <th></th>\n",
       "      <th>Type</th>\n",
       "      <th>Local_Path</th>\n",
       "      <th>Name</th>\n",
       "      <th>Price</th>\n",
       "      <th>Image_url</th>\n",
       "      <th>Buy_url</th>\n",
       "    </tr>\n",
       "  </thead>\n",
       "  <tbody>\n",
       "    <tr>\n",
       "      <th>0</th>\n",
       "      <td>Silla</td>\n",
       "      <td>../data/img_ikea_Sillas/0000.jpg</td>\n",
       "      <td>FANBYN</td>\n",
       "      <td>45€</td>\n",
       "      <td>https://www.ikea.com/es/es/images/products/fan...</td>\n",
       "      <td>https://www.ikea.com/es/es/p/fanbyn-silla-blan...</td>\n",
       "    </tr>\n",
       "    <tr>\n",
       "      <th>1</th>\n",
       "      <td>Silla</td>\n",
       "      <td>../data/img_ikea_Sillas/0001.jpg</td>\n",
       "      <td>LEIFARNE</td>\n",
       "      <td>55€</td>\n",
       "      <td>https://www.ikea.com/es/es/images/products/lei...</td>\n",
       "      <td>https://www.ikea.com/es/es/p/leifarne-silla-am...</td>\n",
       "    </tr>\n",
       "    <tr>\n",
       "      <th>2</th>\n",
       "      <td>Silla</td>\n",
       "      <td>../data/img_ikea_Sillas/0002.jpg</td>\n",
       "      <td>EKEDALEN</td>\n",
       "      <td>45€</td>\n",
       "      <td>https://www.ikea.com/es/es/images/products/eke...</td>\n",
       "      <td>https://www.ikea.com/es/es/p/ekedalen-silla-bl...</td>\n",
       "    </tr>\n",
       "    <tr>\n",
       "      <th>3</th>\n",
       "      <td>Silla giratoria</td>\n",
       "      <td>../data/img_ikea_Sillas/0003.jpg</td>\n",
       "      <td>ODGER</td>\n",
       "      <td>89€</td>\n",
       "      <td>https://www.ikea.com/es/es/images/products/odg...</td>\n",
       "      <td>https://www.ikea.com/es/es/p/odger-silla-girat...</td>\n",
       "    </tr>\n",
       "    <tr>\n",
       "      <th>4</th>\n",
       "      <td>Silla con reposabrz int/ext</td>\n",
       "      <td>../data/img_ikea_Sillas/0004.jpg</td>\n",
       "      <td>TORPARÖ</td>\n",
       "      <td>25€</td>\n",
       "      <td>https://www.ikea.com/es/es/images/products/tor...</td>\n",
       "      <td>https://www.ikea.com/es/es/p/torparo-silla-con...</td>\n",
       "    </tr>\n",
       "    <tr>\n",
       "      <th>...</th>\n",
       "      <td>...</td>\n",
       "      <td>...</td>\n",
       "      <td>...</td>\n",
       "      <td>...</td>\n",
       "      <td>...</td>\n",
       "      <td>...</td>\n",
       "    </tr>\n",
       "    <tr>\n",
       "      <th>870</th>\n",
       "      <td>Silla</td>\n",
       "      <td>../data/img_ikea_Sillas/0870.jpg</td>\n",
       "      <td>HENRIKSDAL</td>\n",
       "      <td>59€</td>\n",
       "      <td>https://www.ikea.com/es/es/images/products/hen...</td>\n",
       "      <td>https://www.ikea.com/es/es/p/henriksdal-silla-...</td>\n",
       "    </tr>\n",
       "    <tr>\n",
       "      <th>892</th>\n",
       "      <td>Silla</td>\n",
       "      <td>../data/img_ikea_Sillas/0892.jpg</td>\n",
       "      <td>EKEDALEN</td>\n",
       "      <td>55€</td>\n",
       "      <td>https://www.ikea.com/es/es/images/products/eke...</td>\n",
       "      <td>https://www.ikea.com/es/es/p/ekedalen-silla-ro...</td>\n",
       "    </tr>\n",
       "    <tr>\n",
       "      <th>893</th>\n",
       "      <td>Silla+funda larga</td>\n",
       "      <td>../data/img_ikea_Sillas/0893.jpg</td>\n",
       "      <td>HENRIKSDAL</td>\n",
       "      <td>64€</td>\n",
       "      <td>https://www.ikea.com/es/es/images/products/hen...</td>\n",
       "      <td>https://www.ikea.com/es/es/p/henriksdal-silla-...</td>\n",
       "    </tr>\n",
       "    <tr>\n",
       "      <th>899</th>\n",
       "      <td>Silla de trabajo</td>\n",
       "      <td>../data/img_ikea_Sillas/0899.jpg</td>\n",
       "      <td>LÅNGFJÄLL</td>\n",
       "      <td>149€</td>\n",
       "      <td>https://www.ikea.com/es/es/images/products/lan...</td>\n",
       "      <td>https://www.ikea.com/es/es/p/langfjall-silla-t...</td>\n",
       "    </tr>\n",
       "    <tr>\n",
       "      <th>920</th>\n",
       "      <td>Silla sala de juntas</td>\n",
       "      <td>../data/img_ikea_Sillas/0920.jpg</td>\n",
       "      <td>LÅNGFJÄLL</td>\n",
       "      <td>119€</td>\n",
       "      <td>https://www.ikea.com/es/es/images/products/lan...</td>\n",
       "      <td>https://www.ikea.com/es/es/p/langfjall-silla-s...</td>\n",
       "    </tr>\n",
       "  </tbody>\n",
       "</table>\n",
       "<p>283 rows × 6 columns</p>\n",
       "</div>"
      ],
      "text/plain": [
       "                            Type                        Local_Path  \\\n",
       "0                          Silla  ../data/img_ikea_Sillas/0000.jpg   \n",
       "1                          Silla  ../data/img_ikea_Sillas/0001.jpg   \n",
       "2                          Silla  ../data/img_ikea_Sillas/0002.jpg   \n",
       "3                Silla giratoria  ../data/img_ikea_Sillas/0003.jpg   \n",
       "4    Silla con reposabrz int/ext  ../data/img_ikea_Sillas/0004.jpg   \n",
       "..                           ...                               ...   \n",
       "870                        Silla  ../data/img_ikea_Sillas/0870.jpg   \n",
       "892                        Silla  ../data/img_ikea_Sillas/0892.jpg   \n",
       "893            Silla+funda larga  ../data/img_ikea_Sillas/0893.jpg   \n",
       "899             Silla de trabajo  ../data/img_ikea_Sillas/0899.jpg   \n",
       "920         Silla sala de juntas  ../data/img_ikea_Sillas/0920.jpg   \n",
       "\n",
       "           Name Price                                          Image_url  \\\n",
       "0        FANBYN   45€  https://www.ikea.com/es/es/images/products/fan...   \n",
       "1      LEIFARNE   55€  https://www.ikea.com/es/es/images/products/lei...   \n",
       "2      EKEDALEN   45€  https://www.ikea.com/es/es/images/products/eke...   \n",
       "3         ODGER   89€  https://www.ikea.com/es/es/images/products/odg...   \n",
       "4       TORPARÖ   25€  https://www.ikea.com/es/es/images/products/tor...   \n",
       "..          ...   ...                                                ...   \n",
       "870  HENRIKSDAL   59€  https://www.ikea.com/es/es/images/products/hen...   \n",
       "892    EKEDALEN   55€  https://www.ikea.com/es/es/images/products/eke...   \n",
       "893  HENRIKSDAL   64€  https://www.ikea.com/es/es/images/products/hen...   \n",
       "899   LÅNGFJÄLL  149€  https://www.ikea.com/es/es/images/products/lan...   \n",
       "920   LÅNGFJÄLL  119€  https://www.ikea.com/es/es/images/products/lan...   \n",
       "\n",
       "                                               Buy_url  \n",
       "0    https://www.ikea.com/es/es/p/fanbyn-silla-blan...  \n",
       "1    https://www.ikea.com/es/es/p/leifarne-silla-am...  \n",
       "2    https://www.ikea.com/es/es/p/ekedalen-silla-bl...  \n",
       "3    https://www.ikea.com/es/es/p/odger-silla-girat...  \n",
       "4    https://www.ikea.com/es/es/p/torparo-silla-con...  \n",
       "..                                                 ...  \n",
       "870  https://www.ikea.com/es/es/p/henriksdal-silla-...  \n",
       "892  https://www.ikea.com/es/es/p/ekedalen-silla-ro...  \n",
       "893  https://www.ikea.com/es/es/p/henriksdal-silla-...  \n",
       "899  https://www.ikea.com/es/es/p/langfjall-silla-t...  \n",
       "920  https://www.ikea.com/es/es/p/langfjall-silla-s...  \n",
       "\n",
       "[283 rows x 6 columns]"
      ]
     },
     "execution_count": 51,
     "metadata": {},
     "output_type": "execute_result"
    }
   ],
   "source": [
    "# Filtered final\n",
    "furnitures_df_filtered = furnitures_df[furnitures_df['Type'].str.startswith(\"Silla\")]\n",
    "furnitures_df_filtered"
   ]
  },
  {
   "cell_type": "code",
   "execution_count": 52,
   "metadata": {},
   "outputs": [
    {
     "data": {
      "text/plain": [
       "283"
      ]
     },
     "execution_count": 52,
     "metadata": {},
     "output_type": "execute_result"
    }
   ],
   "source": [
    "len(furnitures_df_filtered['Image_url'])"
   ]
  },
  {
   "cell_type": "markdown",
   "metadata": {},
   "source": [
    "# Saves images filtered:"
   ]
  },
  {
   "cell_type": "code",
   "execution_count": 35,
   "metadata": {},
   "outputs": [],
   "source": [
    "save_img(furnitures_df_filtered['Image_url'],directory)"
   ]
  },
  {
   "cell_type": "markdown",
   "metadata": {},
   "source": [
    "# DataFrame info to .json file:"
   ]
  },
  {
   "cell_type": "code",
   "execution_count": 36,
   "metadata": {},
   "outputs": [],
   "source": [
    "directory_json = 'json'"
   ]
  },
  {
   "cell_type": "code",
   "execution_count": 37,
   "metadata": {},
   "outputs": [
    {
     "data": {
      "text/plain": [
       "'json/img_ikea_Sillas.json'"
      ]
     },
     "execution_count": 37,
     "metadata": {},
     "output_type": "execute_result"
    }
   ],
   "source": [
    "json_path = os.path.join(directory_json,f'{directory}.json')\n",
    "json_path"
   ]
  },
  {
   "cell_type": "code",
   "execution_count": 38,
   "metadata": {},
   "outputs": [],
   "source": [
    "furnitures_df.to_json(json_path)"
   ]
  },
  {
   "cell_type": "markdown",
   "metadata": {},
   "source": [
    "## Close Firefox"
   ]
  },
  {
   "cell_type": "code",
   "execution_count": 39,
   "metadata": {},
   "outputs": [],
   "source": [
    "driver.close()"
   ]
  },
  {
   "cell_type": "code",
   "execution_count": null,
   "metadata": {},
   "outputs": [],
   "source": []
  }
 ],
 "metadata": {
  "kernelspec": {
   "display_name": "proj_env",
   "language": "python",
   "name": "proj_env"
  },
  "language_info": {
   "codemirror_mode": {
    "name": "ipython",
    "version": 3
   },
   "file_extension": ".py",
   "mimetype": "text/x-python",
   "name": "python",
   "nbconvert_exporter": "python",
   "pygments_lexer": "ipython3",
   "version": "3.7.6"
  }
 },
 "nbformat": 4,
 "nbformat_minor": 4
}
