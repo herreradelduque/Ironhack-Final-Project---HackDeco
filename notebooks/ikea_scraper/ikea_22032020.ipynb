{
 "cells": [
  {
   "cell_type": "markdown",
   "metadata": {},
   "source": [
    "# Selenium"
   ]
  },
  {
   "cell_type": "markdown",
   "metadata": {},
   "source": [
    "_\"Selenium is the most amazing way to automate a web browser\"_ by Pedro Muñoz"
   ]
  },
  {
   "cell_type": "markdown",
   "metadata": {},
   "source": [
    "https://selenium-python.readthedocs.io/"
   ]
  },
  {
   "cell_type": "markdown",
   "metadata": {},
   "source": [
    "## Installation"
   ]
  },
  {
   "cell_type": "code",
   "execution_count": 18,
   "metadata": {},
   "outputs": [],
   "source": [
    "#!pip install selenium"
   ]
  },
  {
   "cell_type": "markdown",
   "metadata": {},
   "source": [
    "### Driver"
   ]
  },
  {
   "cell_type": "code",
   "execution_count": 19,
   "metadata": {},
   "outputs": [],
   "source": [
    "# it is necessary to add the driver to the PATH variable\n",
    "import os\n",
    "\n",
    "os.environ['PATH'] = f'{os.environ[\"PATH\"]}:{os.getcwd()}/drivers'"
   ]
  },
  {
   "cell_type": "code",
   "execution_count": 20,
   "metadata": {},
   "outputs": [
    {
     "data": {
      "text/plain": [
       "'/Users/victorgalan/miniconda3/envs/proj_env/bin:/Users/victorgalan/miniconda3/condabin:/usr/local/bin:/usr/bin:/bin:/usr/sbin:/sbin:/Users/victorgalan/ironhack/git/projects/Ironhack-Final-Project---FurniTour_20200321/Notebooks/ikea_scraper/drivers:/Users/victorgalan/ironhack/git/projects/Ironhack-Final-Project---FurniTour_20200321/Notebooks/ikea_scraper/drivers'"
      ]
     },
     "execution_count": 20,
     "metadata": {},
     "output_type": "execute_result"
    }
   ],
   "source": [
    "os.environ['PATH']"
   ]
  },
  {
   "cell_type": "markdown",
   "metadata": {},
   "source": [
    "I have downloaded and installed geckodriver for MacOS from https://github.com/mozilla/geckodriver/releases"
   ]
  },
  {
   "cell_type": "markdown",
   "metadata": {},
   "source": [
    "## Imports:"
   ]
  },
  {
   "cell_type": "code",
   "execution_count": 21,
   "metadata": {},
   "outputs": [],
   "source": [
    "from selenium import webdriver\n",
    "import time \n",
    "import numpy as np\n",
    "import pandas as pd\n",
    "\n",
    "from selenium.webdriver.common.keys import Keys\n",
    "from selenium.common.exceptions import *\n",
    "from selenium.webdriver.support.ui import WebDriverWait\n",
    "\n",
    "\n",
    "\n",
    "import urllib.request as ulib\n",
    "from bs4 import BeautifulSoup\n",
    "import ast\n",
    "\n",
    "import regex as re"
   ]
  },
  {
   "cell_type": "markdown",
   "metadata": {},
   "source": [
    "### Getting some fresh Ikea pics"
   ]
  },
  {
   "cell_type": "code",
   "execution_count": 24,
   "metadata": {},
   "outputs": [],
   "source": [
    "shop = 'ikea'\n",
    "product = 'Sillas'\n",
    "directory = 'img_' + shop + '_' +link_text\n",
    "\n",
    "# link_text = 'Sillas'\n",
    "# directory = 'img_ikea_'+link_text"
   ]
  },
  {
   "cell_type": "code",
   "execution_count": 23,
   "metadata": {},
   "outputs": [
    {
     "data": {
      "text/plain": [
       "'img_ikea_Sillas'"
      ]
     },
     "execution_count": 23,
     "metadata": {},
     "output_type": "execute_result"
    }
   ],
   "source": [
    "directory"
   ]
  },
  {
   "cell_type": "code",
   "execution_count": 36,
   "metadata": {},
   "outputs": [],
   "source": [
    " #trials with David:\n",
    "user_selected_product = 'http://myapp.net/search?product=Sillas'"
   ]
  },
  {
   "cell_type": "code",
   "execution_count": 38,
   "metadata": {},
   "outputs": [
    {
     "data": {
      "text/plain": [
       "'Sillas'"
      ]
     },
     "execution_count": 38,
     "metadata": {},
     "output_type": "execute_result"
    }
   ],
   "source": [
    "product = user_selected_product.replace('http://myapp.net/search?product=','')\n",
    "product"
   ]
  },
  {
   "cell_type": "code",
   "execution_count": 6,
   "metadata": {},
   "outputs": [],
   "source": [
    "driver = webdriver.Firefox()\n",
    "\n",
    "url = 'https://www.ikea.com/es/es/cat/productos-products/'\n",
    "driver.get(url)"
   ]
  },
  {
   "cell_type": "code",
   "execution_count": 7,
   "metadata": {},
   "outputs": [
    {
     "name": "stdout",
     "output_type": "stream",
     "text": [
      "Load more: 1\n",
      "Load more: 2\n",
      "Load more: 3\n",
      "Load more: 4\n",
      "Load more: 5\n",
      "Load more: 6\n",
      "Load more: 7\n",
      "Load more: 8\n",
      "Load more: 9\n",
      "Load more: 10\n",
      "Load more: 11\n",
      "Load more: 12\n",
      "Load more: 13\n",
      "Load more: 14\n",
      "Load more: 15\n",
      "Load more: 16\n",
      "Load more: 17\n",
      "Load more: 18\n",
      "Load more: 19\n",
      "Load more: 20\n",
      "Load more: 21\n",
      "Load more: 22\n",
      "Load more: 23\n",
      "Load more: 24\n",
      "Load more: 25\n",
      "Load more: 26\n",
      "Load more: 27\n",
      "Load more: 28\n",
      "Load more: 29\n",
      "Load more: 30\n",
      "Load more: 31\n",
      "Load more: 32\n",
      "Load more: 33\n",
      "Load more: 34\n",
      "Load more: 35\n",
      "Load more: 36\n",
      "Load more: 37\n",
      "Load more: 38\n",
      "Load more: 39\n",
      "Resuming\n"
     ]
    }
   ],
   "source": [
    "link = driver.find_element_by_link_text(link_text)    \n",
    "link.click()\n",
    "\n",
    "time.sleep(1)\n",
    "\n",
    "\n",
    "try:\n",
    "    count = 0\n",
    "    while True:\n",
    "        continue_link = driver.find_element_by_partial_link_text('Cargar más')\n",
    "        continue_link.click()\n",
    "        time.sleep(1)\n",
    "        count += 1\n",
    "        print(f'Load more: {count}')\n",
    "    pass\n",
    "    print('Reached the last element')\n",
    "\n",
    "\n",
    "except:\n",
    "    pass\n",
    "    \n",
    "finally:\n",
    "    print('Resuming')\n",
    "    pass"
   ]
  },
  {
   "cell_type": "code",
   "execution_count": 8,
   "metadata": {},
   "outputs": [
    {
     "data": {
      "text/plain": [
       "['https://www.ikea.com/es/es/images/products/fanbyn-chair-white__0587379_PE672586_S5.JPG?f=xs',\n",
       " 'https://www.ikea.com/es/es/images/products/leifarne-chair-dark-yellow-ernfrid-birch__0745133_PE743594_S5.JPG?f=xs',\n",
       " 'https://www.ikea.com/es/es/images/products/ekedalen-chair-white-orrsta-light-grey__0728310_PE736178_S5.JPG?f=xs',\n",
       " 'https://www.ikea.com/es/es/images/products/odger-swivel-chair-white-beige__0734069_PE739278_S5.JPG?f=xs',\n",
       " 'https://www.ikea.com/es/es/images/products/laneberg-ekedalen-table-and-4-chairs-white-white-light-grey__0754618_PE747985_S5.JPG?f=xs']"
      ]
     },
     "execution_count": 8,
     "metadata": {},
     "output_type": "execute_result"
    }
   ],
   "source": [
    "page = driver.page_source\n",
    "soup = BeautifulSoup(page, 'html.parser')\n",
    "\n",
    "\n",
    "image_list = []\n",
    "\n",
    "for link in soup.find_all('img'):\n",
    "    src = link.get('src')\n",
    "    if src.startswith('https://www.ikea.com/es/es/images/products/'): #check src starts with...\n",
    "        image_list.append(src)\n",
    "        \n",
    "image_list[0:5]"
   ]
  },
  {
   "cell_type": "code",
   "execution_count": 9,
   "metadata": {},
   "outputs": [
    {
     "data": {
      "text/plain": [
       "'https://www.ikea.com/es/es/p/fanbyn-silla-blanco-s49228474/'"
      ]
     },
     "execution_count": 9,
     "metadata": {},
     "output_type": "execute_result"
    }
   ],
   "source": [
    "img_buy_url_list = []\n",
    "img_buy_url_list_unique = []\n",
    "\n",
    "\n",
    "all_a = soup.select('.product-compact__spacer a')\n",
    "\n",
    "for a in all_a:\n",
    "    img_buy_url_list.append(a['href'])\n",
    "        \n",
    "for i in img_buy_url_list:\n",
    "    if i not in img_buy_url_list_unique:\n",
    "        img_buy_url_list_unique.append(i)\n",
    "\n",
    "img_buy_url_list_unique[0]"
   ]
  },
  {
   "cell_type": "code",
   "execution_count": 10,
   "metadata": {},
   "outputs": [
    {
     "data": {
      "text/plain": [
       "['FANBYN',\n",
       " 'LEIFARNE',\n",
       " 'EKEDALEN',\n",
       " 'ODGER',\n",
       " 'LANEBERG / EKEDALEN',\n",
       " 'NORDMYRA',\n",
       " 'TEODORES',\n",
       " 'GUNDE',\n",
       " 'MARTIN',\n",
       " 'PELLO',\n",
       " 'JANINGE',\n",
       " 'FANBYN',\n",
       " 'HARRY',\n",
       " 'AGEN',\n",
       " 'ADDE',\n",
       " 'STEFAN',\n",
       " 'INGOLF',\n",
       " 'ADDE',\n",
       " 'TERJE',\n",
       " 'NILSOVE / NORNA',\n",
       " 'TEODORES',\n",
       " 'FANBYN',\n",
       " 'NOLMYRA',\n",
       " 'JOKKMOKK',\n",
       " 'SUNDMO']"
      ]
     },
     "execution_count": 10,
     "metadata": {},
     "output_type": "execute_result"
    }
   ],
   "source": [
    "product_names_list = []\n",
    "\n",
    "names = soup.select('div.product-compact__spacer span.product-compact__name')\n",
    "for name in names:\n",
    "    product_names_list.append(name.text)\n",
    "    \n",
    "product_names_list[0:25]\n"
   ]
  },
  {
   "cell_type": "code",
   "execution_count": 12,
   "metadata": {},
   "outputs": [
    {
     "data": {
      "text/plain": [
       "['Silla',\n",
       " 'Silla',\n",
       " 'Silla',\n",
       " 'Silla giratoria',\n",
       " 'Mesa con 4 sillas, 130/190x80 cm',\n",
       " 'Silla',\n",
       " 'Silla',\n",
       " 'Silla plegable',\n",
       " 'Silla',\n",
       " 'Sillón',\n",
       " 'Silla',\n",
       " 'Sillón',\n",
       " 'Silla',\n",
       " 'Silla',\n",
       " 'Silla',\n",
       " 'Silla',\n",
       " 'Silla',\n",
       " 'Silla',\n",
       " 'Silla plegable',\n",
       " 'Silla con cojín',\n",
       " 'Silla',\n",
       " 'Silla',\n",
       " 'Sillón',\n",
       " 'Mesa con 4 sillas',\n",
       " 'Sillón',\n",
       " 'Sillón',\n",
       " 'Silla',\n",
       " 'Taburete',\n",
       " 'Silla',\n",
       " 'Silla',\n",
       " 'Silla',\n",
       " 'Silla',\n",
       " 'Estructura de silla',\n",
       " 'Taburete escalón, 50 cm',\n",
       " 'Silla',\n",
       " 'Silla plegable',\n",
       " 'Silla',\n",
       " 'Silla',\n",
       " 'Silla',\n",
       " 'Silla',\n",
       " 'Silla',\n",
       " 'Silla',\n",
       " 'Silla con reposabrz int/ext',\n",
       " 'Sillón',\n",
       " 'Silla',\n",
       " 'Cojín piel oveja, 35 cm',\n",
       " 'Silla',\n",
       " 'Estructura de silla',\n",
       " 'Silla',\n",
       " 'Silla',\n",
       " 'Silla',\n",
       " 'Silla plegable',\n",
       " 'Silla',\n",
       " 'Taburete',\n",
       " 'Taburete',\n",
       " 'Silla giratoria',\n",
       " 'Silla con reposabrazos',\n",
       " 'Banco, 103 cm',\n",
       " 'Silla',\n",
       " 'Silla',\n",
       " 'Silla',\n",
       " 'Sillón',\n",
       " 'Silla',\n",
       " 'Silla de trabajo',\n",
       " 'Mesa con 4 sillas, 125 cm',\n",
       " 'Silla',\n",
       " 'Sillón para niños',\n",
       " 'Escalón',\n",
       " 'Cojín para silla, 40/35x38x7 cm',\n",
       " 'Silla giratoria',\n",
       " 'Sillón',\n",
       " 'Silla',\n",
       " 'Silla plegable',\n",
       " 'Banco+compartimentos, 100x51 cm',\n",
       " 'Sillón',\n",
       " 'Sillón',\n",
       " 'Silla de escritorio',\n",
       " 'Taburete escalón, 50 cm',\n",
       " 'Silla',\n",
       " 'Silla con reposabrz int/ext',\n",
       " 'Silla plegable',\n",
       " 'Silla sala de juntas',\n",
       " 'Sillón orejero',\n",
       " 'Sillón',\n",
       " 'Mesa y 6 sillas, 235x100 cm',\n",
       " 'Mesa con 4 sillas, 125 cm',\n",
       " 'Sillón',\n",
       " 'Silla int/ext',\n",
       " 'Silla',\n",
       " 'Silla plegable',\n",
       " 'Cojín de soporte',\n",
       " 'Silla',\n",
       " 'Silla',\n",
       " 'Silla',\n",
       " 'Taburete',\n",
       " 'Silla',\n",
       " 'Mesa con 4 sillas',\n",
       " 'Silla',\n",
       " 'Taburete',\n",
       " 'Mesa con 4 sillas, 110 cm']"
      ]
     },
     "execution_count": 12,
     "metadata": {},
     "output_type": "execute_result"
    }
   ],
   "source": [
    "product_types_list = []\n",
    "\n",
    "types = soup.select('div.product-compact__spacer span.product-compact__type')\n",
    "for type_ in types:\n",
    "    product_types_list.append(((type_.text).replace('\\n','')).strip().replace('         ',''))\n",
    "\n",
    "product_types_list[0:100]\n"
   ]
  },
  {
   "cell_type": "code",
   "execution_count": 14,
   "metadata": {},
   "outputs": [
    {
     "data": {
      "text/plain": [
       "['45€',\n",
       " '55€',\n",
       " '45€',\n",
       " '89€',\n",
       " '309€',\n",
       " '24,99€',\n",
       " '20€',\n",
       " '7€',\n",
       " '19,99€',\n",
       " '34,99€',\n",
       " '29€',\n",
       " '59€',\n",
       " '39€',\n",
       " '39,99€',\n",
       " '10€',\n",
       " '15€',\n",
       " '50€',\n",
       " '10€',\n",
       " '12,99€',\n",
       " '85€',\n",
       " '20€',\n",
       " '45€',\n",
       " '34,99€',\n",
       " '119€',\n",
       " '129€',\n",
       " '69€',\n",
       " '55€',\n",
       " '4€',\n",
       " '59€',\n",
       " '69€',\n",
       " '50€',\n",
       " '59€',\n",
       " '39€',\n",
       " '12,99€',\n",
       " '34,99€',\n",
       " '9€',\n",
       " '29€',\n",
       " '50€',\n",
       " '30€',\n",
       " '20€',\n",
       " '39€',\n",
       " '50€',\n",
       " '25€',\n",
       " '149€',\n",
       " '59€',\n",
       " '10€',\n",
       " '179€',\n",
       " '39€',\n",
       " '50€',\n",
       " '39€']"
      ]
     },
     "execution_count": 14,
     "metadata": {},
     "output_type": "execute_result"
    }
   ],
   "source": [
    "product_price_list = []\n",
    "\n",
    "prices = soup.select('div.product-compact__spacer span.product-compact__price__value')\n",
    "for price in prices:\n",
    "    product_price_list.append(price.text)\n",
    "\n",
    "product_price_list[0:50]"
   ]
  },
  {
   "cell_type": "code",
   "execution_count": 15,
   "metadata": {},
   "outputs": [
    {
     "data": {
      "text/plain": [
       "['Silla_FANBYN',\n",
       " 'Silla_LEIFARNE',\n",
       " 'Silla_EKEDALEN',\n",
       " 'Silla giratoria_ODGER',\n",
       " 'Mesa con 4 sillas, 130/190x80 cm_LANEBERG / EKEDALEN']"
      ]
     },
     "execution_count": 15,
     "metadata": {},
     "output_type": "execute_result"
    }
   ],
   "source": [
    "coded =[]\n",
    "for i in range(len(product_names_list)):\n",
    "    coded.append(product_types_list[i]+'_'+product_names_list[i])\n",
    "coded[0:5]"
   ]
  },
  {
   "cell_type": "code",
   "execution_count": 16,
   "metadata": {},
   "outputs": [
    {
     "data": {
      "text/plain": [
       "'https://www.ikea.com/es/es/cat/productos-products/'"
      ]
     },
     "execution_count": 16,
     "metadata": {},
     "output_type": "execute_result"
    }
   ],
   "source": [
    "url"
   ]
  },
  {
   "cell_type": "code",
   "execution_count": 17,
   "metadata": {},
   "outputs": [],
   "source": [
    "def save_img(url,directory):\n",
    "    if not os.path.isdir(directory):\n",
    "        os.mkdir(directory)\n",
    "\n",
    "    for i,link in enumerate(url):\n",
    "        path = os.path.join(directory,'{:04}.jpg'.format(i))\n",
    "        try:\n",
    "            ulib.urlretrieve(link,path)\n",
    "        except:\n",
    "            print('Failed: ')\n",
    "\n",
    "save_img(image_list,directory)"
   ]
  },
  {
   "cell_type": "code",
   "execution_count": 16,
   "metadata": {},
   "outputs": [],
   "source": [
    "driver.close()"
   ]
  },
  {
   "cell_type": "code",
   "execution_count": null,
   "metadata": {},
   "outputs": [],
   "source": []
  }
 ],
 "metadata": {
  "kernelspec": {
   "display_name": "proj_env",
   "language": "python",
   "name": "proj_env"
  },
  "language_info": {
   "codemirror_mode": {
    "name": "ipython",
    "version": 3
   },
   "file_extension": ".py",
   "mimetype": "text/x-python",
   "name": "python",
   "nbconvert_exporter": "python",
   "pygments_lexer": "ipython3",
   "version": "3.7.6"
  }
 },
 "nbformat": 4,
 "nbformat_minor": 4
}
