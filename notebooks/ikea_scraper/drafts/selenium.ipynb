{
 "cells": [
  {
   "cell_type": "markdown",
   "metadata": {},
   "source": [
    "# Selenium"
   ]
  },
  {
   "cell_type": "markdown",
   "metadata": {},
   "source": [
    "_\"Selenium is the most amazing way to automate a web browser\"_ by Pedro Muñoz"
   ]
  },
  {
   "cell_type": "markdown",
   "metadata": {},
   "source": [
    "https://selenium-python.readthedocs.io/"
   ]
  },
  {
   "cell_type": "markdown",
   "metadata": {},
   "source": [
    "## Installation"
   ]
  },
  {
   "cell_type": "code",
   "execution_count": 1,
   "metadata": {},
   "outputs": [
    {
     "name": "stdout",
     "output_type": "stream",
     "text": [
      "Requirement already satisfied: selenium in /Users/victorgalan/miniconda3/envs/proj_env/lib/python3.8/site-packages (3.141.0)\n",
      "Requirement already satisfied: urllib3 in /Users/victorgalan/miniconda3/envs/proj_env/lib/python3.8/site-packages (from selenium) (1.25.8)\n"
     ]
    }
   ],
   "source": [
    "!pip install selenium"
   ]
  },
  {
   "cell_type": "markdown",
   "metadata": {},
   "source": [
    "### Driver"
   ]
  },
  {
   "cell_type": "code",
   "execution_count": 2,
   "metadata": {},
   "outputs": [],
   "source": [
    "# it is necessary to add the driver to the PATH variable\n",
    "import os\n",
    "\n",
    "os.environ['PATH'] = f'{os.environ[\"PATH\"]}:{os.getcwd()}/drivers'"
   ]
  },
  {
   "cell_type": "code",
   "execution_count": 3,
   "metadata": {},
   "outputs": [
    {
     "data": {
      "text/plain": [
       "'/Users/victorgalan/miniconda3/envs/proj_env/bin:/Users/victorgalan/miniconda3/bin:/Users/victorgalan/miniconda3/bin:/Users/victorgalan/miniconda3/condabin:/usr/local/bin:/usr/bin:/bin:/usr/sbin:/sbin:/Users/victorgalan/ironhack/git/projects/Ironhack-Final-Project---FurniTour/lab-selenium/drivers'"
      ]
     },
     "execution_count": 3,
     "metadata": {},
     "output_type": "execute_result"
    }
   ],
   "source": [
    "os.environ['PATH']"
   ]
  },
  {
   "cell_type": "markdown",
   "metadata": {},
   "source": [
    "I have downloaded and installed geckodriver for MacOS from https://github.com/mozilla/geckodriver/releases"
   ]
  },
  {
   "cell_type": "markdown",
   "metadata": {},
   "source": [
    "## Imports:"
   ]
  },
  {
   "cell_type": "code",
   "execution_count": 4,
   "metadata": {},
   "outputs": [],
   "source": [
    "from selenium import webdriver\n",
    "import time \n",
    "import numpy as np\n",
    "import pandas as pd"
   ]
  },
  {
   "cell_type": "markdown",
   "metadata": {},
   "source": [
    "### Getting some fresh Renfe tickets"
   ]
  },
  {
   "cell_type": "code",
   "execution_count": 18,
   "metadata": {},
   "outputs": [],
   "source": [
    "'''import datetime\n",
    "\n",
    "ORIGIN = 'MADRID'\n",
    "DESTINATION = 'ZARAGOZA'\n",
    "\n",
    "# tickets for tomorrow\n",
    "DATE = (datetime.date.today() + datetime.timedelta(days=1)).strftime('%d/%m/%Y')'''"
   ]
  },
  {
   "cell_type": "code",
   "execution_count": null,
   "metadata": {},
   "outputs": [],
   "source": [
    "from selenium.webdriver.common.keys import Keys\n",
    "from selenium.common.exceptions import *\n",
    "\n",
    "\n",
    "browser = webdriver.Firefox()\n",
    "browser.get('https://www.ikea.com/es/es/cat/productos-products/')\n",
    "\n",
    "origin = browser.find_element_by_name('desOrigen')\n",
    "origin.send_keys(ORIGIN)\n",
    "origin.send_keys(Keys.ARROW_DOWN)\n",
    "origin.send_keys(Keys.ENTER)\n",
    "\n",
    "destination = browser.find_element_by_name('desDestino')\n",
    "destination.send_keys(DESTINATION)\n",
    "destination.send_keys(Keys.ARROW_DOWN)\n",
    "destination.send_keys(Keys.ENTER)\n",
    "\n",
    "date = browser.find_element_by_name('__fechaIdaVisual')\n",
    "date.send_keys(Keys.BACK_SPACE * 10)\n",
    "date.send_keys(DATE)\n",
    "\n",
    "destination.send_keys(Keys.ENTER)\n",
    "\n",
    "\n",
    "time.sleep(4)\n",
    "valor = browser.find_element_by_xpath('/html/body/div[1]/section[2]/div/section/div[2]/div[1]/table/tbody[1]/tr[1]/td[2]').text\n",
    "#print(valor)\n",
    "\n",
    "rows = len(browser.find_elements_by_xpath('/html/body/div[1]/section[2]/div/section/div[2]/div[1]/table/tbody[1]/tr'))\n",
    "cols = len(browser.find_elements_by_xpath('/html/body/div[1]/section[2]/div/section/div[2]/div[1]/table/tbody[1]/tr[1]/td'))\n",
    "\n",
    "print(f'Number of rows:  {rows}')\n",
    "print(f'Number of columns: {cols}\\n')\n",
    "\n",
    "\n",
    "complete = ['Tren Completo']\n",
    "blanck = ['']\n",
    "\n",
    "lista = []\n",
    "for r in range(rows+1): \n",
    "    for c in range(cols):\n",
    "        try:\n",
    "            data = list(browser.find_element_by_xpath('/html/body/div[1]/section[2]/div/section/div[2]/div[1]/table/tbody[1]/tr['+str(r)+']/td['+str(c)+']').text.split(';'))\n",
    "            title = browser.find_element_by_xpath('/html/body/div[1]/section[2]/div/section/div[2]/div[1]/table/thead/tr').text\n",
    "            if data is not None:\n",
    "                lista.append(data)\n",
    "            if data == complete:\n",
    "                lista.append(blanck)\n",
    "                lista.append(blanck)\n",
    "                lista.append(blanck)\n",
    "\n",
    "        except NoSuchElementException:\n",
    "            pass\n",
    "        \n",
    "time.sleep(1)\n",
    "browser.close()"
   ]
  },
  {
   "cell_type": "code",
   "execution_count": null,
   "metadata": {},
   "outputs": [],
   "source": [
    "array = np.array(lista)\n",
    "array.shape"
   ]
  },
  {
   "cell_type": "code",
   "execution_count": 13,
   "metadata": {},
   "outputs": [
    {
     "data": {
      "text/plain": [
       "(4, 9)"
      ]
     },
     "execution_count": 13,
     "metadata": {},
     "output_type": "execute_result"
    }
   ],
   "source": [
    "try:\n",
    "    array = array.reshape(int((rows/2)+1),int((cols)))\n",
    "except:\n",
    "    array = array.reshape(int((rows/2)),int((cols)))\n",
    "\n",
    "array.shape"
   ]
  },
  {
   "cell_type": "code",
   "execution_count": 14,
   "metadata": {},
   "outputs": [
    {
     "data": {
      "text/html": [
       "<div>\n",
       "<style scoped>\n",
       "    .dataframe tbody tr th:only-of-type {\n",
       "        vertical-align: middle;\n",
       "    }\n",
       "\n",
       "    .dataframe tbody tr th {\n",
       "        vertical-align: top;\n",
       "    }\n",
       "\n",
       "    .dataframe thead th {\n",
       "        text-align: right;\n",
       "    }\n",
       "</style>\n",
       "<table border=\"1\" class=\"dataframe\">\n",
       "  <thead>\n",
       "    <tr style=\"text-align: right;\">\n",
       "      <th></th>\n",
       "      <th>0</th>\n",
       "      <th>1</th>\n",
       "      <th>2</th>\n",
       "      <th>3</th>\n",
       "      <th>4</th>\n",
       "      <th>5</th>\n",
       "      <th>6</th>\n",
       "      <th>7</th>\n",
       "      <th>8</th>\n",
       "    </tr>\n",
       "  </thead>\n",
       "  <tbody>\n",
       "    <tr>\n",
       "      <th>0</th>\n",
       "      <td></td>\n",
       "      <td>14.40</td>\n",
       "      <td>18.33</td>\n",
       "      <td>3 h. 53 min.</td>\n",
       "      <td>AVE-MD</td>\n",
       "      <td>59,60 €</td>\n",
       "      <td>Turista con enlace</td>\n",
       "      <td>Flexible</td>\n",
       "      <td></td>\n",
       "    </tr>\n",
       "    <tr>\n",
       "      <th>1</th>\n",
       "      <td></td>\n",
       "      <td>14.40</td>\n",
       "      <td>18.52</td>\n",
       "      <td>4 h. 12 min.</td>\n",
       "      <td>AVE-LD</td>\n",
       "      <td>63,10 €</td>\n",
       "      <td>Turista con enlace</td>\n",
       "      <td>Flexible</td>\n",
       "      <td></td>\n",
       "    </tr>\n",
       "    <tr>\n",
       "      <th>2</th>\n",
       "      <td></td>\n",
       "      <td>17.30</td>\n",
       "      <td>21.33</td>\n",
       "      <td>4 h. 3 min.</td>\n",
       "      <td>ALVIA</td>\n",
       "      <td>56,40 €</td>\n",
       "      <td>Turista\\nSólo plaza H</td>\n",
       "      <td>Flexible</td>\n",
       "      <td></td>\n",
       "    </tr>\n",
       "    <tr>\n",
       "      <th>3</th>\n",
       "      <td></td>\n",
       "      <td>22.14</td>\n",
       "      <td>04.31</td>\n",
       "      <td>6 h. 17 min.</td>\n",
       "      <td>TRENHOTEL</td>\n",
       "      <td>74,70 €</td>\n",
       "      <td>Cama Turista</td>\n",
       "      <td>Flexible</td>\n",
       "      <td></td>\n",
       "    </tr>\n",
       "  </tbody>\n",
       "</table>\n",
       "</div>"
      ],
      "text/plain": [
       "  0      1      2             3          4        5                      6  \\\n",
       "0    14.40  18.33  3 h. 53 min.     AVE-MD  59,60 €     Turista con enlace   \n",
       "1    14.40  18.52  4 h. 12 min.     AVE-LD  63,10 €     Turista con enlace   \n",
       "2    17.30  21.33   4 h. 3 min.      ALVIA  56,40 €  Turista\\nSólo plaza H   \n",
       "3    22.14  04.31  6 h. 17 min.  TRENHOTEL  74,70 €           Cama Turista   \n",
       "\n",
       "          7 8  \n",
       "0  Flexible    \n",
       "1  Flexible    \n",
       "2  Flexible    \n",
       "3  Flexible    "
      ]
     },
     "execution_count": 14,
     "metadata": {},
     "output_type": "execute_result"
    }
   ],
   "source": [
    "df = pd.DataFrame(array)\n",
    "df"
   ]
  },
  {
   "cell_type": "code",
   "execution_count": 15,
   "metadata": {},
   "outputs": [
    {
     "data": {
      "text/html": [
       "<div>\n",
       "<style scoped>\n",
       "    .dataframe tbody tr th:only-of-type {\n",
       "        vertical-align: middle;\n",
       "    }\n",
       "\n",
       "    .dataframe tbody tr th {\n",
       "        vertical-align: top;\n",
       "    }\n",
       "\n",
       "    .dataframe thead th {\n",
       "        text-align: right;\n",
       "    }\n",
       "</style>\n",
       "<table border=\"1\" class=\"dataframe\">\n",
       "  <thead>\n",
       "    <tr style=\"text-align: right;\">\n",
       "      <th></th>\n",
       "      <th>1</th>\n",
       "      <th>2</th>\n",
       "      <th>3</th>\n",
       "      <th>4</th>\n",
       "      <th>5</th>\n",
       "      <th>6</th>\n",
       "      <th>7</th>\n",
       "      <th>8</th>\n",
       "    </tr>\n",
       "  </thead>\n",
       "  <tbody>\n",
       "    <tr>\n",
       "      <th>0</th>\n",
       "      <td>14.40</td>\n",
       "      <td>18.33</td>\n",
       "      <td>3 h. 53 min.</td>\n",
       "      <td>AVE-MD</td>\n",
       "      <td>59,60 €</td>\n",
       "      <td>Turista con enlace</td>\n",
       "      <td>Flexible</td>\n",
       "      <td></td>\n",
       "    </tr>\n",
       "    <tr>\n",
       "      <th>1</th>\n",
       "      <td>14.40</td>\n",
       "      <td>18.52</td>\n",
       "      <td>4 h. 12 min.</td>\n",
       "      <td>AVE-LD</td>\n",
       "      <td>63,10 €</td>\n",
       "      <td>Turista con enlace</td>\n",
       "      <td>Flexible</td>\n",
       "      <td></td>\n",
       "    </tr>\n",
       "    <tr>\n",
       "      <th>2</th>\n",
       "      <td>17.30</td>\n",
       "      <td>21.33</td>\n",
       "      <td>4 h. 3 min.</td>\n",
       "      <td>ALVIA</td>\n",
       "      <td>56,40 €</td>\n",
       "      <td>Turista\\nSólo plaza H</td>\n",
       "      <td>Flexible</td>\n",
       "      <td></td>\n",
       "    </tr>\n",
       "    <tr>\n",
       "      <th>3</th>\n",
       "      <td>22.14</td>\n",
       "      <td>04.31</td>\n",
       "      <td>6 h. 17 min.</td>\n",
       "      <td>TRENHOTEL</td>\n",
       "      <td>74,70 €</td>\n",
       "      <td>Cama Turista</td>\n",
       "      <td>Flexible</td>\n",
       "      <td></td>\n",
       "    </tr>\n",
       "  </tbody>\n",
       "</table>\n",
       "</div>"
      ],
      "text/plain": [
       "       1      2             3          4        5                      6  \\\n",
       "0  14.40  18.33  3 h. 53 min.     AVE-MD  59,60 €     Turista con enlace   \n",
       "1  14.40  18.52  4 h. 12 min.     AVE-LD  63,10 €     Turista con enlace   \n",
       "2  17.30  21.33   4 h. 3 min.      ALVIA  56,40 €  Turista\\nSólo plaza H   \n",
       "3  22.14  04.31  6 h. 17 min.  TRENHOTEL  74,70 €           Cama Turista   \n",
       "\n",
       "          7 8  \n",
       "0  Flexible    \n",
       "1  Flexible    \n",
       "2  Flexible    \n",
       "3  Flexible    "
      ]
     },
     "execution_count": 15,
     "metadata": {},
     "output_type": "execute_result"
    }
   ],
   "source": [
    "df.drop([0], axis=1, inplace=True)\n",
    "df"
   ]
  },
  {
   "cell_type": "code",
   "execution_count": 16,
   "metadata": {},
   "outputs": [
    {
     "data": {
      "text/plain": [
       "['Salida',\n",
       " 'Llegada',\n",
       " 'Duración',\n",
       " 'Servicio',\n",
       " 'Precio Desde',\n",
       " 'Clase',\n",
       " 'Tarifa',\n",
       " 'Opciones']"
      ]
     },
     "execution_count": 16,
     "metadata": {},
     "output_type": "execute_result"
    }
   ],
   "source": [
    "title = title.split('\\n')\n",
    "title"
   ]
  },
  {
   "cell_type": "code",
   "execution_count": 17,
   "metadata": {},
   "outputs": [
    {
     "data": {
      "text/html": [
       "<div>\n",
       "<style scoped>\n",
       "    .dataframe tbody tr th:only-of-type {\n",
       "        vertical-align: middle;\n",
       "    }\n",
       "\n",
       "    .dataframe tbody tr th {\n",
       "        vertical-align: top;\n",
       "    }\n",
       "\n",
       "    .dataframe thead th {\n",
       "        text-align: right;\n",
       "    }\n",
       "</style>\n",
       "<table border=\"1\" class=\"dataframe\">\n",
       "  <thead>\n",
       "    <tr style=\"text-align: right;\">\n",
       "      <th></th>\n",
       "      <th>Salida</th>\n",
       "      <th>Llegada</th>\n",
       "      <th>Duración</th>\n",
       "      <th>Servicio</th>\n",
       "      <th>Precio Desde</th>\n",
       "      <th>Clase</th>\n",
       "      <th>Tarifa</th>\n",
       "      <th>Opciones</th>\n",
       "    </tr>\n",
       "  </thead>\n",
       "  <tbody>\n",
       "    <tr>\n",
       "      <th>0</th>\n",
       "      <td>14.40</td>\n",
       "      <td>18.33</td>\n",
       "      <td>3 h. 53 min.</td>\n",
       "      <td>AVE-MD</td>\n",
       "      <td>59,60 €</td>\n",
       "      <td>Turista con enlace</td>\n",
       "      <td>Flexible</td>\n",
       "      <td></td>\n",
       "    </tr>\n",
       "    <tr>\n",
       "      <th>1</th>\n",
       "      <td>14.40</td>\n",
       "      <td>18.52</td>\n",
       "      <td>4 h. 12 min.</td>\n",
       "      <td>AVE-LD</td>\n",
       "      <td>63,10 €</td>\n",
       "      <td>Turista con enlace</td>\n",
       "      <td>Flexible</td>\n",
       "      <td></td>\n",
       "    </tr>\n",
       "    <tr>\n",
       "      <th>2</th>\n",
       "      <td>17.30</td>\n",
       "      <td>21.33</td>\n",
       "      <td>4 h. 3 min.</td>\n",
       "      <td>ALVIA</td>\n",
       "      <td>56,40 €</td>\n",
       "      <td>Turista\\nSólo plaza H</td>\n",
       "      <td>Flexible</td>\n",
       "      <td></td>\n",
       "    </tr>\n",
       "    <tr>\n",
       "      <th>3</th>\n",
       "      <td>22.14</td>\n",
       "      <td>04.31</td>\n",
       "      <td>6 h. 17 min.</td>\n",
       "      <td>TRENHOTEL</td>\n",
       "      <td>74,70 €</td>\n",
       "      <td>Cama Turista</td>\n",
       "      <td>Flexible</td>\n",
       "      <td></td>\n",
       "    </tr>\n",
       "  </tbody>\n",
       "</table>\n",
       "</div>"
      ],
      "text/plain": [
       "  Salida Llegada      Duración   Servicio Precio Desde                  Clase  \\\n",
       "0  14.40   18.33  3 h. 53 min.     AVE-MD      59,60 €     Turista con enlace   \n",
       "1  14.40   18.52  4 h. 12 min.     AVE-LD      63,10 €     Turista con enlace   \n",
       "2  17.30   21.33   4 h. 3 min.      ALVIA      56,40 €  Turista\\nSólo plaza H   \n",
       "3  22.14   04.31  6 h. 17 min.  TRENHOTEL      74,70 €           Cama Turista   \n",
       "\n",
       "     Tarifa Opciones  \n",
       "0  Flexible           \n",
       "1  Flexible           \n",
       "2  Flexible           \n",
       "3  Flexible           "
      ]
     },
     "execution_count": 17,
     "metadata": {},
     "output_type": "execute_result"
    }
   ],
   "source": [
    "df.columns = title\n",
    "df"
   ]
  },
  {
   "cell_type": "code",
   "execution_count": null,
   "metadata": {},
   "outputs": [],
   "source": []
  }
 ],
 "metadata": {
  "kernelspec": {
   "display_name": "proj_env",
   "language": "python",
   "name": "proj_env"
  },
  "language_info": {
   "codemirror_mode": {
    "name": "ipython",
    "version": 3
   },
   "file_extension": ".py",
   "mimetype": "text/x-python",
   "name": "python",
   "nbconvert_exporter": "python",
   "pygments_lexer": "ipython3",
   "version": "3.8.1"
  }
 },
 "nbformat": 4,
 "nbformat_minor": 4
}
