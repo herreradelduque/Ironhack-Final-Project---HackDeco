{
 "cells": [
  {
   "cell_type": "markdown",
   "metadata": {},
   "source": [
    "# Selenium"
   ]
  },
  {
   "cell_type": "markdown",
   "metadata": {},
   "source": [
    "_\"Selenium is the most amazing way to automate a web browser\"_ by Pedro Muñoz"
   ]
  },
  {
   "cell_type": "markdown",
   "metadata": {},
   "source": [
    "https://selenium-python.readthedocs.io/"
   ]
  },
  {
   "cell_type": "markdown",
   "metadata": {},
   "source": [
    "## Installation"
   ]
  },
  {
   "cell_type": "code",
   "execution_count": 1,
   "metadata": {},
   "outputs": [
    {
     "name": "stdout",
     "output_type": "stream",
     "text": [
      "Requirement already satisfied: selenium in /Users/victorgalan/miniconda3/envs/data_env/lib/python3.7/site-packages (3.141.0)\n",
      "Requirement already satisfied: urllib3 in /Users/victorgalan/miniconda3/envs/data_env/lib/python3.7/site-packages (from selenium) (1.24.3)\n"
     ]
    }
   ],
   "source": [
    "!pip install selenium"
   ]
  },
  {
   "cell_type": "markdown",
   "metadata": {},
   "source": [
    "### Driver"
   ]
  },
  {
   "cell_type": "code",
   "execution_count": 2,
   "metadata": {},
   "outputs": [],
   "source": [
    "# it is necessary to add the driver to the PATH variable\n",
    "import os\n",
    "\n",
    "os.environ['PATH'] = f'{os.environ[\"PATH\"]}:{os.getcwd()}/drivers'"
   ]
  },
  {
   "cell_type": "code",
   "execution_count": 3,
   "metadata": {},
   "outputs": [
    {
     "data": {
      "text/plain": [
       "'/Users/victorgalan/miniconda3/envs/data_env/bin:/Users/victorgalan/miniconda3/condabin:/usr/local/bin:/usr/bin:/bin:/usr/sbin:/sbin:/Users/victorgalan/ironhack/ejercicios_y_ejemplos/Pedro_Docs/lab-selenium/drivers'"
      ]
     },
     "execution_count": 3,
     "metadata": {},
     "output_type": "execute_result"
    }
   ],
   "source": [
    "os.environ['PATH']"
   ]
  },
  {
   "cell_type": "markdown",
   "metadata": {},
   "source": [
    "I have downloaded and installed geckodriver for MacOS from https://github.com/mozilla/geckodriver/releases"
   ]
  },
  {
   "cell_type": "markdown",
   "metadata": {},
   "source": [
    "Fun"
   ]
  },
  {
   "cell_type": "code",
   "execution_count": 4,
   "metadata": {},
   "outputs": [],
   "source": [
    "from selenium import webdriver\n",
    "\n",
    "import time \n",
    "browser = webdriver.Firefox()\n",
    "browser.get('http://www.renfe.com/')"
   ]
  },
  {
   "cell_type": "code",
   "execution_count": 5,
   "metadata": {},
   "outputs": [],
   "source": [
    "browser.close()"
   ]
  },
  {
   "cell_type": "markdown",
   "metadata": {},
   "source": [
    "### Getting some fresh Renfe tickets"
   ]
  },
  {
   "cell_type": "code",
   "execution_count": 6,
   "metadata": {},
   "outputs": [],
   "source": [
    "import datetime\n",
    "\n",
    "ORIGIN = 'MADRID'\n",
    "DESTINATION = 'PONFERRADA'\n",
    "\n",
    "# tickets for tomorrow\n",
    "DATE = (datetime.date.today() + datetime.timedelta(days=1)).strftime('%d/%m/%Y')"
   ]
  },
  {
   "cell_type": "code",
   "execution_count": 7,
   "metadata": {},
   "outputs": [],
   "source": [
    "# from selenium.webdriver.common.keys import Keys\n",
    "\n",
    "# browser = webdriver.Firefox()\n",
    "# browser.get('http://www.renfe.com/')\n",
    "\n",
    "# origin = browser.find_element_by_name('desOrigen')\n",
    "# origin.send_keys(ORIGIN)\n",
    "# origin.send_keys(Keys.ARROW_DOWN)\n",
    "# origin.send_keys(Keys.ENTER)\n",
    "\n",
    "# destination = browser.find_element_by_name('desDestino')\n",
    "# destination.send_keys(DESTINATION)\n",
    "# destination.send_keys(Keys.ARROW_DOWN)\n",
    "# destination.send_keys(Keys.ENTER)\n",
    "\n",
    "# date = browser.find_element_by_name('__fechaIdaVisual')\n",
    "# date.send_keys(Keys.BACK_SPACE * 10)\n",
    "# date.send_keys(DATE)\n",
    "\n",
    "# destination.send_keys(Keys.ENTER)"
   ]
  },
  {
   "cell_type": "code",
   "execution_count": 8,
   "metadata": {},
   "outputs": [
    {
     "name": "stdout",
     "output_type": "stream",
     "text": [
      "14.40\n",
      "rows:  7\n",
      "columns: 9\n"
     ]
    }
   ],
   "source": [
    "from selenium.webdriver.common.keys import Keys\n",
    "\n",
    "browser = webdriver.Firefox()\n",
    "browser.get('http://www.renfe.com/')\n",
    "\n",
    "origin = browser.find_element_by_name('desOrigen')\n",
    "origin.send_keys(ORIGIN)\n",
    "origin.send_keys(Keys.ARROW_DOWN)\n",
    "origin.send_keys(Keys.ENTER)\n",
    "\n",
    "destination = browser.find_element_by_name('desDestino')\n",
    "destination.send_keys(DESTINATION)\n",
    "destination.send_keys(Keys.ARROW_DOWN)\n",
    "destination.send_keys(Keys.ENTER)\n",
    "\n",
    "date = browser.find_element_by_name('__fechaIdaVisual')\n",
    "date.send_keys(Keys.BACK_SPACE * 10)\n",
    "date.send_keys(DATE)\n",
    "\n",
    "destination.send_keys(Keys.ENTER)\n",
    "\n",
    "\n",
    "time.sleep(4)\n",
    "valor = browser.find_element_by_xpath('/html/body/div[1]/section[2]/div/section/div[2]/div[1]/table/tbody[1]/tr[1]/td[2]').text\n",
    "print(valor)\n",
    "\n",
    "rows = len(browser.find_elements_by_xpath('/html/body/div[1]/section[2]/div/section/div[2]/div[1]/table/tbody[1]/tr'))\n",
    "cols = len(browser.find_elements_by_xpath('/html/body/div[1]/section[2]/div/section/div[2]/div[1]/table/tbody[1]/tr[1]/td'))\n",
    "\n",
    "print(f'rows:  {rows}')\n",
    "print(f'columns: {cols}')\n",
    "\n",
    "# for i in range(1, rows+1):\n",
    "#     for j in range(1, cols+1):\n",
    "#         data = browser.find_element_by_xpath('/html/body/div[1]/section[2]/div/section/div[2]/div[1]/table/tbody['+str(j)+']/tr['+str(i)+']').text\n",
    "#         print(data, end=';\\n')\n",
    "#     print()\n",
    "        \n",
    "        \n",
    "        \n",
    "        "
   ]
  },
  {
   "cell_type": "code",
   "execution_count": 9,
   "metadata": {},
   "outputs": [
    {
     "name": "stdout",
     "output_type": "stream",
     "text": [
      "14.40\n",
      "rows:  7\n",
      "columns: 9\n",
      "['14.40 18.33 3 h. 53 min. AVE-MD 38,75 € Turista con enlace Promo +']\n",
      "['']\n",
      "['14.40 18.52 4 h. 12 min. AVE-LD 37,85 € Turista con enlace Promo']\n",
      "['']\n",
      "['17.30 21.33 4 h. 3 min. ALVIA\\nTren Completo']\n",
      "['22.14 04.31 6 h. 17 min. TRENHOTEL 46,30 € Turista Flexible']\n",
      "['']\n"
     ]
    }
   ],
   "source": [
    "from selenium.webdriver.common.keys import Keys\n",
    "\n",
    "browser = webdriver.Firefox()\n",
    "browser.get('http://www.renfe.com/')\n",
    "\n",
    "origin = browser.find_element_by_name('desOrigen')\n",
    "origin.send_keys(ORIGIN)\n",
    "origin.send_keys(Keys.ARROW_DOWN)\n",
    "origin.send_keys(Keys.ENTER)\n",
    "\n",
    "destination = browser.find_element_by_name('desDestino')\n",
    "destination.send_keys(DESTINATION)\n",
    "destination.send_keys(Keys.ARROW_DOWN)\n",
    "destination.send_keys(Keys.ENTER)\n",
    "\n",
    "date = browser.find_element_by_name('__fechaIdaVisual')\n",
    "date.send_keys(Keys.BACK_SPACE * 10)\n",
    "date.send_keys(DATE)\n",
    "\n",
    "destination.send_keys(Keys.ENTER)\n",
    "\n",
    "\n",
    "time.sleep(4)\n",
    "valor = browser.find_element_by_xpath('/html/body/div[1]/section[2]/div/section/div[2]/div[1]/table/tbody[1]/tr[1]/td[2]').text\n",
    "print(valor)\n",
    "\n",
    "rows = len(browser.find_elements_by_xpath('/html/body/div[1]/section[2]/div/section/div[2]/div[1]/table/tbody[1]/tr'))\n",
    "cols = len(browser.find_elements_by_xpath('/html/body/div[1]/section[2]/div/section/div[2]/div[1]/table/tbody[1]/tr[1]/td'))\n",
    "\n",
    "print(f'rows:  {rows}')\n",
    "print(f'columns: {cols}')\n",
    "\n",
    "for i in range(1, rows+1):\n",
    "    data = browser.find_element_by_xpath('/html/body/div[1]/section[2]/div/section/div[2]/div[1]/table/tbody[1]/tr['+str(i)+']').text.split(';')\n",
    "    print(data)\n",
    "    #df = pd.DataFrame(data)    \n",
    "    #display(df)\n",
    "        \n",
    "        "
   ]
  },
  {
   "cell_type": "code",
   "execution_count": 29,
   "metadata": {},
   "outputs": [
    {
     "name": "stdout",
     "output_type": "stream",
     "text": [
      "14.50\n",
      "rows:  4\n",
      "columns: 9\n"
     ]
    },
    {
     "data": {
      "text/html": [
       "<div>\n",
       "<style scoped>\n",
       "    .dataframe tbody tr th:only-of-type {\n",
       "        vertical-align: middle;\n",
       "    }\n",
       "\n",
       "    .dataframe tbody tr th {\n",
       "        vertical-align: top;\n",
       "    }\n",
       "\n",
       "    .dataframe thead th {\n",
       "        text-align: right;\n",
       "    }\n",
       "</style>\n",
       "<table border=\"1\" class=\"dataframe\">\n",
       "  <thead>\n",
       "    <tr style=\"text-align: right;\">\n",
       "      <th></th>\n",
       "      <th>0</th>\n",
       "    </tr>\n",
       "  </thead>\n",
       "  <tbody>\n",
       "    <tr>\n",
       "      <th>0</th>\n",
       "      <td>14.50 18.52 4 h. 2 min. LD 57,00 € Turista con...</td>\n",
       "    </tr>\n",
       "    <tr>\n",
       "      <th>1</th>\n",
       "      <td></td>\n",
       "    </tr>\n",
       "    <tr>\n",
       "      <th>2</th>\n",
       "      <td>14.50 18.33 3 h. 43 min. LD-MD 54,10 € Turista...</td>\n",
       "    </tr>\n",
       "    <tr>\n",
       "      <th>3</th>\n",
       "      <td></td>\n",
       "    </tr>\n",
       "  </tbody>\n",
       "</table>\n",
       "</div>"
      ],
      "text/plain": [
       "                                                   0\n",
       "0  14.50 18.52 4 h. 2 min. LD 57,00 € Turista con...\n",
       "1                                                   \n",
       "2  14.50 18.33 3 h. 43 min. LD-MD 54,10 € Turista...\n",
       "3                                                   "
      ]
     },
     "metadata": {},
     "output_type": "display_data"
    }
   ],
   "source": [
    "from selenium.webdriver.common.keys import Keys\n",
    "\n",
    "browser = webdriver.Firefox()\n",
    "browser.get('http://www.renfe.com/')\n",
    "\n",
    "origin = browser.find_element_by_name('desOrigen')\n",
    "origin.send_keys(ORIGIN)\n",
    "origin.send_keys(Keys.ARROW_DOWN)\n",
    "origin.send_keys(Keys.ENTER)\n",
    "\n",
    "destination = browser.find_element_by_name('desDestino')\n",
    "destination.send_keys(DESTINATION)\n",
    "destination.send_keys(Keys.ARROW_DOWN)\n",
    "destination.send_keys(Keys.ENTER)\n",
    "\n",
    "date = browser.find_element_by_name('__fechaIdaVisual')\n",
    "date.send_keys(Keys.BACK_SPACE * 10)\n",
    "date.send_keys(DATE)\n",
    "\n",
    "destination.send_keys(Keys.ENTER)\n",
    "\n",
    "\n",
    "time.sleep(4)\n",
    "valor = browser.find_element_by_xpath('/html/body/div[1]/section[2]/div/section/div[2]/div[1]/table/tbody[1]/tr[1]/td[2]').text\n",
    "print(valor)\n",
    "\n",
    "rows = len(browser.find_elements_by_xpath('/html/body/div[1]/section[2]/div/section/div[2]/div[1]/table/tbody[1]/tr'))\n",
    "cols = len(browser.find_elements_by_xpath('/html/body/div[1]/section[2]/div/section/div[2]/div[1]/table/tbody[1]/tr[1]/td'))\n",
    "\n",
    "print(f'rows:  {rows}')\n",
    "print(f'columns: {cols}')\n",
    "\n",
    "\n",
    "data = [browser.find_element_by_xpath('/html/body/div[1]/section[2]/div/section/div[2]/div[1]/table/tbody[1]/tr['+str(i)+']').text.split(';') for i in range(1, rows+1)]\n",
    "data\n",
    "# df = pd.DataFrame(data)    \n",
    "# display(df)\n",
    "        \n",
    "        "
   ]
  },
  {
   "cell_type": "code",
   "execution_count": 2,
   "metadata": {},
   "outputs": [
    {
     "ename": "NameError",
     "evalue": "name 'df' is not defined",
     "output_type": "error",
     "traceback": [
      "\u001b[0;31m---------------------------------------------------------------------------\u001b[0m",
      "\u001b[0;31mNameError\u001b[0m                                 Traceback (most recent call last)",
      "\u001b[0;32m<ipython-input-2-9546f40dfdb3>\u001b[0m in \u001b[0;36m<module>\u001b[0;34m\u001b[0m\n\u001b[0;32m----> 1\u001b[0;31m \u001b[0mdf\u001b[0m \u001b[0;34m=\u001b[0m \u001b[0mdf\u001b[0m\u001b[0;34m.\u001b[0m\u001b[0mstr\u001b[0m\u001b[0;34m.\u001b[0m\u001b[0msplit\u001b[0m\u001b[0;34m(\u001b[0m\u001b[0;34m\" \"\u001b[0m\u001b[0;34m,\u001b[0m \u001b[0mn\u001b[0m \u001b[0;34m=\u001b[0m \u001b[0;36m1\u001b[0m\u001b[0;34m,\u001b[0m \u001b[0mexpand\u001b[0m \u001b[0;34m=\u001b[0m \u001b[0;32mTrue\u001b[0m\u001b[0;34m)\u001b[0m\u001b[0;34m\u001b[0m\u001b[0;34m\u001b[0m\u001b[0m\n\u001b[0m\u001b[1;32m      2\u001b[0m \u001b[0mdf\u001b[0m\u001b[0;34m\u001b[0m\u001b[0;34m\u001b[0m\u001b[0m\n",
      "\u001b[0;31mNameError\u001b[0m: name 'df' is not defined"
     ]
    }
   ],
   "source": [
    "df = df.str.split(\" \", n = 1, expand = True) \n",
    "df"
   ]
  },
  {
   "cell_type": "code",
   "execution_count": 39,
   "metadata": {},
   "outputs": [
    {
     "name": "stdout",
     "output_type": "stream",
     "text": [
      "14.50\n",
      "rows:  4\n",
      "columns: 9\n"
     ]
    },
    {
     "data": {
      "text/plain": [
       "[['14.50 18.52 4 h. 2 min. LD 57,00 € Turista con enlace Flexible'],\n",
       " [''],\n",
       " ['14.50 18.33 3 h. 43 min. LD-MD 54,10 € Turista con enlace Flexible'],\n",
       " ['']]"
      ]
     },
     "execution_count": 39,
     "metadata": {},
     "output_type": "execute_result"
    }
   ],
   "source": [
    "from selenium.webdriver.common.keys import Keys\n",
    "\n",
    "browser = webdriver.Firefox()\n",
    "browser.get('http://www.renfe.com/')\n",
    "\n",
    "origin = browser.find_element_by_name('desOrigen')\n",
    "origin.send_keys(ORIGIN)\n",
    "origin.send_keys(Keys.ARROW_DOWN)\n",
    "origin.send_keys(Keys.ENTER)\n",
    "\n",
    "destination = browser.find_element_by_name('desDestino')\n",
    "destination.send_keys(DESTINATION)\n",
    "destination.send_keys(Keys.ARROW_DOWN)\n",
    "destination.send_keys(Keys.ENTER)\n",
    "\n",
    "date = browser.find_element_by_name('__fechaIdaVisual')\n",
    "date.send_keys(Keys.BACK_SPACE * 10)\n",
    "date.send_keys(DATE)\n",
    "\n",
    "destination.send_keys(Keys.ENTER)\n",
    "\n",
    "\n",
    "time.sleep(4)\n",
    "valor = browser.find_element_by_xpath('/html/body/div[1]/section[2]/div/section/div[2]/div[1]/table/tbody[1]/tr[1]/td[2]').text\n",
    "print(valor)\n",
    "\n",
    "rows = len(browser.find_elements_by_xpath('/html/body/div[1]/section[2]/div/section/div[2]/div[1]/table/tbody[1]/tr'))\n",
    "cols = len(browser.find_elements_by_xpath('/html/body/div[1]/section[2]/div/section/div[2]/div[1]/table/tbody[1]/tr[1]/td'))\n",
    "\n",
    "print(f'rows:  {rows}')\n",
    "print(f'columns: {cols}')\n",
    "\n",
    "\n",
    "data = [browser.find_element_by_xpath('/html/body/div[1]/section[2]/div/section/div[2]/div[1]/table/tbody[1]/tr['+str(i)+']').text.split(';') for i in range(1, rows+1)]\n",
    "data\n",
    "# df = pd.DataFrame(data)    \n",
    "# display(df)\n",
    "        \n",
    "        "
   ]
  },
  {
   "cell_type": "code",
   "execution_count": 17,
   "metadata": {},
   "outputs": [
    {
     "data": {
      "text/plain": [
       "list"
      ]
     },
     "execution_count": 17,
     "metadata": {},
     "output_type": "execute_result"
    }
   ],
   "source": [
    "type(data))"
   ]
  },
  {
   "cell_type": "code",
   "execution_count": 18,
   "metadata": {},
   "outputs": [],
   "source": [
    "import pandas as pd"
   ]
  },
  {
   "cell_type": "code",
   "execution_count": 22,
   "metadata": {},
   "outputs": [
    {
     "name": "stdout",
     "output_type": "stream",
     "text": [
      "14.40\n",
      "rows:  7\n",
      "columns: 9\n",
      "['14.40']\n",
      "['18.33']\n",
      "['3 h. 53 min.']\n",
      "['AVE-MD']\n",
      "['38,75 €']\n",
      "['Turista con enlace']\n",
      "['Promo +']\n",
      "\n"
     ]
    },
    {
     "ename": "NoSuchElementException",
     "evalue": "Message: Unable to locate element: /html/body/div[1]/section[2]/div/section/div[2]/div[1]/table/tbody[1]/tr[2]/td[2]\n",
     "output_type": "error",
     "traceback": [
      "\u001b[0;31m---------------------------------------------------------------------------\u001b[0m",
      "\u001b[0;31mNoSuchElementException\u001b[0m                    Traceback (most recent call last)",
      "\u001b[0;32m<ipython-input-22-ac33224f64bb>\u001b[0m in \u001b[0;36m<module>\u001b[0;34m\u001b[0m\n\u001b[1;32m     33\u001b[0m \u001b[0;32mfor\u001b[0m \u001b[0mi\u001b[0m \u001b[0;32min\u001b[0m \u001b[0mrange\u001b[0m\u001b[0;34m(\u001b[0m\u001b[0;36m1\u001b[0m\u001b[0;34m,\u001b[0m \u001b[0mrows\u001b[0m\u001b[0;34m+\u001b[0m\u001b[0;36m1\u001b[0m\u001b[0;34m)\u001b[0m\u001b[0;34m:\u001b[0m\u001b[0;34m\u001b[0m\u001b[0;34m\u001b[0m\u001b[0m\n\u001b[1;32m     34\u001b[0m     \u001b[0;32mfor\u001b[0m \u001b[0mj\u001b[0m \u001b[0;32min\u001b[0m \u001b[0mrange\u001b[0m\u001b[0;34m(\u001b[0m\u001b[0;36m2\u001b[0m\u001b[0;34m,\u001b[0m\u001b[0mcols\u001b[0m\u001b[0;34m)\u001b[0m\u001b[0;34m:\u001b[0m\u001b[0;34m\u001b[0m\u001b[0;34m\u001b[0m\u001b[0m\n\u001b[0;32m---> 35\u001b[0;31m         \u001b[0mdata\u001b[0m \u001b[0;34m=\u001b[0m \u001b[0mlist\u001b[0m\u001b[0;34m(\u001b[0m\u001b[0mbrowser\u001b[0m\u001b[0;34m.\u001b[0m\u001b[0mfind_element_by_xpath\u001b[0m\u001b[0;34m(\u001b[0m\u001b[0;34m'/html/body/div[1]/section[2]/div/section/div[2]/div[1]/table/tbody[1]/tr['\u001b[0m\u001b[0;34m+\u001b[0m\u001b[0mstr\u001b[0m\u001b[0;34m(\u001b[0m\u001b[0mi\u001b[0m\u001b[0;34m)\u001b[0m\u001b[0;34m+\u001b[0m\u001b[0;34m']/td['\u001b[0m\u001b[0;34m+\u001b[0m\u001b[0mstr\u001b[0m\u001b[0;34m(\u001b[0m\u001b[0mj\u001b[0m\u001b[0;34m)\u001b[0m\u001b[0;34m+\u001b[0m\u001b[0;34m']'\u001b[0m\u001b[0;34m)\u001b[0m\u001b[0;34m.\u001b[0m\u001b[0mtext\u001b[0m\u001b[0;34m.\u001b[0m\u001b[0msplit\u001b[0m\u001b[0;34m(\u001b[0m\u001b[0;34m';'\u001b[0m\u001b[0;34m)\u001b[0m\u001b[0;34m)\u001b[0m\u001b[0;34m\u001b[0m\u001b[0;34m\u001b[0m\u001b[0m\n\u001b[0m\u001b[1;32m     36\u001b[0m         \u001b[0mprint\u001b[0m\u001b[0;34m(\u001b[0m\u001b[0mdata\u001b[0m\u001b[0;34m)\u001b[0m\u001b[0;34m\u001b[0m\u001b[0;34m\u001b[0m\u001b[0m\n\u001b[1;32m     37\u001b[0m     \u001b[0mprint\u001b[0m\u001b[0;34m(\u001b[0m\u001b[0;34m)\u001b[0m\u001b[0;34m\u001b[0m\u001b[0;34m\u001b[0m\u001b[0m\n",
      "\u001b[0;32m~/miniconda3/envs/data_env/lib/python3.7/site-packages/selenium/webdriver/remote/webdriver.py\u001b[0m in \u001b[0;36mfind_element_by_xpath\u001b[0;34m(self, xpath)\u001b[0m\n\u001b[1;32m    392\u001b[0m             \u001b[0melement\u001b[0m \u001b[0;34m=\u001b[0m \u001b[0mdriver\u001b[0m\u001b[0;34m.\u001b[0m\u001b[0mfind_element_by_xpath\u001b[0m\u001b[0;34m(\u001b[0m\u001b[0;34m'//div/td[1]'\u001b[0m\u001b[0;34m)\u001b[0m\u001b[0;34m\u001b[0m\u001b[0;34m\u001b[0m\u001b[0m\n\u001b[1;32m    393\u001b[0m         \"\"\"\n\u001b[0;32m--> 394\u001b[0;31m         \u001b[0;32mreturn\u001b[0m \u001b[0mself\u001b[0m\u001b[0;34m.\u001b[0m\u001b[0mfind_element\u001b[0m\u001b[0;34m(\u001b[0m\u001b[0mby\u001b[0m\u001b[0;34m=\u001b[0m\u001b[0mBy\u001b[0m\u001b[0;34m.\u001b[0m\u001b[0mXPATH\u001b[0m\u001b[0;34m,\u001b[0m \u001b[0mvalue\u001b[0m\u001b[0;34m=\u001b[0m\u001b[0mxpath\u001b[0m\u001b[0;34m)\u001b[0m\u001b[0;34m\u001b[0m\u001b[0;34m\u001b[0m\u001b[0m\n\u001b[0m\u001b[1;32m    395\u001b[0m \u001b[0;34m\u001b[0m\u001b[0m\n\u001b[1;32m    396\u001b[0m     \u001b[0;32mdef\u001b[0m \u001b[0mfind_elements_by_xpath\u001b[0m\u001b[0;34m(\u001b[0m\u001b[0mself\u001b[0m\u001b[0;34m,\u001b[0m \u001b[0mxpath\u001b[0m\u001b[0;34m)\u001b[0m\u001b[0;34m:\u001b[0m\u001b[0;34m\u001b[0m\u001b[0;34m\u001b[0m\u001b[0m\n",
      "\u001b[0;32m~/miniconda3/envs/data_env/lib/python3.7/site-packages/selenium/webdriver/remote/webdriver.py\u001b[0m in \u001b[0;36mfind_element\u001b[0;34m(self, by, value)\u001b[0m\n\u001b[1;32m    976\u001b[0m         return self.execute(Command.FIND_ELEMENT, {\n\u001b[1;32m    977\u001b[0m             \u001b[0;34m'using'\u001b[0m\u001b[0;34m:\u001b[0m \u001b[0mby\u001b[0m\u001b[0;34m,\u001b[0m\u001b[0;34m\u001b[0m\u001b[0;34m\u001b[0m\u001b[0m\n\u001b[0;32m--> 978\u001b[0;31m             'value': value})['value']\n\u001b[0m\u001b[1;32m    979\u001b[0m \u001b[0;34m\u001b[0m\u001b[0m\n\u001b[1;32m    980\u001b[0m     \u001b[0;32mdef\u001b[0m \u001b[0mfind_elements\u001b[0m\u001b[0;34m(\u001b[0m\u001b[0mself\u001b[0m\u001b[0;34m,\u001b[0m \u001b[0mby\u001b[0m\u001b[0;34m=\u001b[0m\u001b[0mBy\u001b[0m\u001b[0;34m.\u001b[0m\u001b[0mID\u001b[0m\u001b[0;34m,\u001b[0m \u001b[0mvalue\u001b[0m\u001b[0;34m=\u001b[0m\u001b[0;32mNone\u001b[0m\u001b[0;34m)\u001b[0m\u001b[0;34m:\u001b[0m\u001b[0;34m\u001b[0m\u001b[0;34m\u001b[0m\u001b[0m\n",
      "\u001b[0;32m~/miniconda3/envs/data_env/lib/python3.7/site-packages/selenium/webdriver/remote/webdriver.py\u001b[0m in \u001b[0;36mexecute\u001b[0;34m(self, driver_command, params)\u001b[0m\n\u001b[1;32m    319\u001b[0m         \u001b[0mresponse\u001b[0m \u001b[0;34m=\u001b[0m \u001b[0mself\u001b[0m\u001b[0;34m.\u001b[0m\u001b[0mcommand_executor\u001b[0m\u001b[0;34m.\u001b[0m\u001b[0mexecute\u001b[0m\u001b[0;34m(\u001b[0m\u001b[0mdriver_command\u001b[0m\u001b[0;34m,\u001b[0m \u001b[0mparams\u001b[0m\u001b[0;34m)\u001b[0m\u001b[0;34m\u001b[0m\u001b[0;34m\u001b[0m\u001b[0m\n\u001b[1;32m    320\u001b[0m         \u001b[0;32mif\u001b[0m \u001b[0mresponse\u001b[0m\u001b[0;34m:\u001b[0m\u001b[0;34m\u001b[0m\u001b[0;34m\u001b[0m\u001b[0m\n\u001b[0;32m--> 321\u001b[0;31m             \u001b[0mself\u001b[0m\u001b[0;34m.\u001b[0m\u001b[0merror_handler\u001b[0m\u001b[0;34m.\u001b[0m\u001b[0mcheck_response\u001b[0m\u001b[0;34m(\u001b[0m\u001b[0mresponse\u001b[0m\u001b[0;34m)\u001b[0m\u001b[0;34m\u001b[0m\u001b[0;34m\u001b[0m\u001b[0m\n\u001b[0m\u001b[1;32m    322\u001b[0m             response['value'] = self._unwrap_value(\n\u001b[1;32m    323\u001b[0m                 response.get('value', None))\n",
      "\u001b[0;32m~/miniconda3/envs/data_env/lib/python3.7/site-packages/selenium/webdriver/remote/errorhandler.py\u001b[0m in \u001b[0;36mcheck_response\u001b[0;34m(self, response)\u001b[0m\n\u001b[1;32m    240\u001b[0m                 \u001b[0malert_text\u001b[0m \u001b[0;34m=\u001b[0m \u001b[0mvalue\u001b[0m\u001b[0;34m[\u001b[0m\u001b[0;34m'alert'\u001b[0m\u001b[0;34m]\u001b[0m\u001b[0;34m.\u001b[0m\u001b[0mget\u001b[0m\u001b[0;34m(\u001b[0m\u001b[0;34m'text'\u001b[0m\u001b[0;34m)\u001b[0m\u001b[0;34m\u001b[0m\u001b[0;34m\u001b[0m\u001b[0m\n\u001b[1;32m    241\u001b[0m             \u001b[0;32mraise\u001b[0m \u001b[0mexception_class\u001b[0m\u001b[0;34m(\u001b[0m\u001b[0mmessage\u001b[0m\u001b[0;34m,\u001b[0m \u001b[0mscreen\u001b[0m\u001b[0;34m,\u001b[0m \u001b[0mstacktrace\u001b[0m\u001b[0;34m,\u001b[0m \u001b[0malert_text\u001b[0m\u001b[0;34m)\u001b[0m\u001b[0;34m\u001b[0m\u001b[0;34m\u001b[0m\u001b[0m\n\u001b[0;32m--> 242\u001b[0;31m         \u001b[0;32mraise\u001b[0m \u001b[0mexception_class\u001b[0m\u001b[0;34m(\u001b[0m\u001b[0mmessage\u001b[0m\u001b[0;34m,\u001b[0m \u001b[0mscreen\u001b[0m\u001b[0;34m,\u001b[0m \u001b[0mstacktrace\u001b[0m\u001b[0;34m)\u001b[0m\u001b[0;34m\u001b[0m\u001b[0;34m\u001b[0m\u001b[0m\n\u001b[0m\u001b[1;32m    243\u001b[0m \u001b[0;34m\u001b[0m\u001b[0m\n\u001b[1;32m    244\u001b[0m     \u001b[0;32mdef\u001b[0m \u001b[0m_value_or_default\u001b[0m\u001b[0;34m(\u001b[0m\u001b[0mself\u001b[0m\u001b[0;34m,\u001b[0m \u001b[0mobj\u001b[0m\u001b[0;34m,\u001b[0m \u001b[0mkey\u001b[0m\u001b[0;34m,\u001b[0m \u001b[0mdefault\u001b[0m\u001b[0;34m)\u001b[0m\u001b[0;34m:\u001b[0m\u001b[0;34m\u001b[0m\u001b[0;34m\u001b[0m\u001b[0m\n",
      "\u001b[0;31mNoSuchElementException\u001b[0m: Message: Unable to locate element: /html/body/div[1]/section[2]/div/section/div[2]/div[1]/table/tbody[1]/tr[2]/td[2]\n"
     ]
    }
   ],
   "source": [
    "from selenium.webdriver.common.keys import Keys\n",
    "\n",
    "browser = webdriver.Firefox()\n",
    "browser.get('http://www.renfe.com/')\n",
    "\n",
    "origin = browser.find_element_by_name('desOrigen')\n",
    "origin.send_keys(ORIGIN)\n",
    "origin.send_keys(Keys.ARROW_DOWN)\n",
    "origin.send_keys(Keys.ENTER)\n",
    "\n",
    "destination = browser.find_element_by_name('desDestino')\n",
    "destination.send_keys(DESTINATION)\n",
    "destination.send_keys(Keys.ARROW_DOWN)\n",
    "destination.send_keys(Keys.ENTER)\n",
    "\n",
    "date = browser.find_element_by_name('__fechaIdaVisual')\n",
    "date.send_keys(Keys.BACK_SPACE * 10)\n",
    "date.send_keys(DATE)\n",
    "\n",
    "destination.send_keys(Keys.ENTER)\n",
    "\n",
    "\n",
    "time.sleep(4)\n",
    "valor = browser.find_element_by_xpath('/html/body/div[1]/section[2]/div/section/div[2]/div[1]/table/tbody[1]/tr[1]/td[2]').text\n",
    "print(valor)\n",
    "\n",
    "rows = len(browser.find_elements_by_xpath('/html/body/div[1]/section[2]/div/section/div[2]/div[1]/table/tbody[1]/tr'))\n",
    "cols = len(browser.find_elements_by_xpath('/html/body/div[1]/section[2]/div/section/div[2]/div[1]/table/tbody[1]/tr[1]/td'))\n",
    "\n",
    "print(f'rows:  {rows}')\n",
    "print(f'columns: {cols}')\n",
    "\n",
    "for i in range(1, rows+1):\n",
    "    for j in range(2,cols):\n",
    "        data = list(browser.find_element_by_xpath('/html/body/div[1]/section[2]/div/section/div[2]/div[1]/table/tbody[1]/tr['+str(i)+']/td['+str(j)+']').text.split(';'))\n",
    "        print(data)\n",
    "    print()\n",
    "        \n",
    "        "
   ]
  },
  {
   "cell_type": "code",
   "execution_count": 40,
   "metadata": {},
   "outputs": [],
   "source": [
    "from selenium.webdriver.common.keys import Keys\n",
    "\n",
    "browser = webdriver.Firefox()\n",
    "browser.get('http://www.renfe.com/')\n",
    "\n",
    "origin = browser.find_element_by_name('desOrigen')\n",
    "origin.send_keys(ORIGIN)\n",
    "origin.send_keys(Keys.ARROW_DOWN)\n",
    "origin.send_keys(Keys.ENTER)\n",
    "\n",
    "destination = browser.find_element_by_name('desDestino')\n",
    "destination.send_keys(DESTINATION)\n",
    "destination.send_keys(Keys.ARROW_DOWN)\n",
    "destination.send_keys(Keys.ENTER)\n",
    "\n",
    "date = browser.find_element_by_name('__fechaIdaVisual')\n",
    "date.send_keys(Keys.BACK_SPACE * 10)\n",
    "date.send_keys(DATE)\n",
    "\n",
    "destination.send_keys(Keys.ENTER)\n",
    "\n",
    "\n",
    "time.sleep(4)\n",
    "\n",
    "title = browser.find_element_by_xpath('/html/body/div[1]/section[2]/div/section/div[2]/div[1]/table/thead/tr').text\n",
    "# valor = browser.find_element_by_id('listaTrenesTBodyIda').text\n",
    "valor = browser.find_element_by_id('listaTrenesTBodyIda').text\n",
    "\n",
    "\n",
    "valor = valor.split('\\n')\n",
    "\n",
    "\n",
    "        \n",
    "        "
   ]
  },
  {
   "cell_type": "code",
   "execution_count": 41,
   "metadata": {},
   "outputs": [
    {
     "data": {
      "text/plain": [
       "'Salida\\nLlegada\\nDuración\\nServicio\\nPrecio Desde\\nClase\\nTarifa\\nOpciones'"
      ]
     },
     "execution_count": 41,
     "metadata": {},
     "output_type": "execute_result"
    }
   ],
   "source": [
    "title"
   ]
  },
  {
   "cell_type": "code",
   "execution_count": 32,
   "metadata": {},
   "outputs": [
    {
     "data": {
      "text/plain": [
       "['Salida',\n",
       " 'Llegada',\n",
       " 'Duración',\n",
       " 'Servicio',\n",
       " 'Precio Desde',\n",
       " 'Clase',\n",
       " 'Tarifa',\n",
       " 'Opciones']"
      ]
     },
     "execution_count": 32,
     "metadata": {},
     "output_type": "execute_result"
    }
   ],
   "source": [
    "title = title.split('\\n')\n",
    "title"
   ]
  },
  {
   "cell_type": "code",
   "execution_count": 44,
   "metadata": {},
   "outputs": [
    {
     "data": {
      "text/plain": [
       "['Flexible']"
      ]
     },
     "execution_count": 44,
     "metadata": {},
     "output_type": "execute_result"
    }
   ],
   "source": [
    "# valor = [valor.split() for i in valor]\n",
    "for i in valor:\n",
    "    valori.split()\n",
    "valor"
   ]
  },
  {
   "cell_type": "code",
   "execution_count": 44,
   "metadata": {},
   "outputs": [
    {
     "ename": "NoSuchElementException",
     "evalue": "Message: Unable to locate element: /html/body/div[1]/section[2]/div/section/div[2]/div[1]/table/tbody[1]/tr[1]/td[2]\n",
     "output_type": "error",
     "traceback": [
      "\u001b[0;31m---------------------------------------------------------------------------\u001b[0m",
      "\u001b[0;31mNoSuchElementException\u001b[0m                    Traceback (most recent call last)",
      "\u001b[0;32m<ipython-input-44-c6eb385985b4>\u001b[0m in \u001b[0;36m<module>\u001b[0;34m\u001b[0m\n\u001b[1;32m     22\u001b[0m \u001b[0;34m\u001b[0m\u001b[0m\n\u001b[1;32m     23\u001b[0m \u001b[0mtime\u001b[0m\u001b[0;34m.\u001b[0m\u001b[0msleep\u001b[0m\u001b[0;34m(\u001b[0m\u001b[0;36m4\u001b[0m\u001b[0;34m)\u001b[0m\u001b[0;34m\u001b[0m\u001b[0;34m\u001b[0m\u001b[0m\n\u001b[0;32m---> 24\u001b[0;31m \u001b[0mvalor\u001b[0m \u001b[0;34m=\u001b[0m \u001b[0mbrowser\u001b[0m\u001b[0;34m.\u001b[0m\u001b[0mfind_element_by_xpath\u001b[0m\u001b[0;34m(\u001b[0m\u001b[0;34m'/html/body/div[1]/section[2]/div/section/div[2]/div[1]/table/tbody[1]/tr[1]/td[2]'\u001b[0m\u001b[0;34m)\u001b[0m\u001b[0;34m.\u001b[0m\u001b[0mtext\u001b[0m\u001b[0;34m\u001b[0m\u001b[0;34m\u001b[0m\u001b[0m\n\u001b[0m\u001b[1;32m     25\u001b[0m \u001b[0mprint\u001b[0m\u001b[0;34m(\u001b[0m\u001b[0mvalor\u001b[0m\u001b[0;34m)\u001b[0m\u001b[0;34m\u001b[0m\u001b[0;34m\u001b[0m\u001b[0m\n\u001b[1;32m     26\u001b[0m \u001b[0;34m\u001b[0m\u001b[0m\n",
      "\u001b[0;32m~/miniconda3/envs/data_env/lib/python3.7/site-packages/selenium/webdriver/remote/webdriver.py\u001b[0m in \u001b[0;36mfind_element_by_xpath\u001b[0;34m(self, xpath)\u001b[0m\n\u001b[1;32m    392\u001b[0m             \u001b[0melement\u001b[0m \u001b[0;34m=\u001b[0m \u001b[0mdriver\u001b[0m\u001b[0;34m.\u001b[0m\u001b[0mfind_element_by_xpath\u001b[0m\u001b[0;34m(\u001b[0m\u001b[0;34m'//div/td[1]'\u001b[0m\u001b[0;34m)\u001b[0m\u001b[0;34m\u001b[0m\u001b[0;34m\u001b[0m\u001b[0m\n\u001b[1;32m    393\u001b[0m         \"\"\"\n\u001b[0;32m--> 394\u001b[0;31m         \u001b[0;32mreturn\u001b[0m \u001b[0mself\u001b[0m\u001b[0;34m.\u001b[0m\u001b[0mfind_element\u001b[0m\u001b[0;34m(\u001b[0m\u001b[0mby\u001b[0m\u001b[0;34m=\u001b[0m\u001b[0mBy\u001b[0m\u001b[0;34m.\u001b[0m\u001b[0mXPATH\u001b[0m\u001b[0;34m,\u001b[0m \u001b[0mvalue\u001b[0m\u001b[0;34m=\u001b[0m\u001b[0mxpath\u001b[0m\u001b[0;34m)\u001b[0m\u001b[0;34m\u001b[0m\u001b[0;34m\u001b[0m\u001b[0m\n\u001b[0m\u001b[1;32m    395\u001b[0m \u001b[0;34m\u001b[0m\u001b[0m\n\u001b[1;32m    396\u001b[0m     \u001b[0;32mdef\u001b[0m \u001b[0mfind_elements_by_xpath\u001b[0m\u001b[0;34m(\u001b[0m\u001b[0mself\u001b[0m\u001b[0;34m,\u001b[0m \u001b[0mxpath\u001b[0m\u001b[0;34m)\u001b[0m\u001b[0;34m:\u001b[0m\u001b[0;34m\u001b[0m\u001b[0;34m\u001b[0m\u001b[0m\n",
      "\u001b[0;32m~/miniconda3/envs/data_env/lib/python3.7/site-packages/selenium/webdriver/remote/webdriver.py\u001b[0m in \u001b[0;36mfind_element\u001b[0;34m(self, by, value)\u001b[0m\n\u001b[1;32m    976\u001b[0m         return self.execute(Command.FIND_ELEMENT, {\n\u001b[1;32m    977\u001b[0m             \u001b[0;34m'using'\u001b[0m\u001b[0;34m:\u001b[0m \u001b[0mby\u001b[0m\u001b[0;34m,\u001b[0m\u001b[0;34m\u001b[0m\u001b[0;34m\u001b[0m\u001b[0m\n\u001b[0;32m--> 978\u001b[0;31m             'value': value})['value']\n\u001b[0m\u001b[1;32m    979\u001b[0m \u001b[0;34m\u001b[0m\u001b[0m\n\u001b[1;32m    980\u001b[0m     \u001b[0;32mdef\u001b[0m \u001b[0mfind_elements\u001b[0m\u001b[0;34m(\u001b[0m\u001b[0mself\u001b[0m\u001b[0;34m,\u001b[0m \u001b[0mby\u001b[0m\u001b[0;34m=\u001b[0m\u001b[0mBy\u001b[0m\u001b[0;34m.\u001b[0m\u001b[0mID\u001b[0m\u001b[0;34m,\u001b[0m \u001b[0mvalue\u001b[0m\u001b[0;34m=\u001b[0m\u001b[0;32mNone\u001b[0m\u001b[0;34m)\u001b[0m\u001b[0;34m:\u001b[0m\u001b[0;34m\u001b[0m\u001b[0;34m\u001b[0m\u001b[0m\n",
      "\u001b[0;32m~/miniconda3/envs/data_env/lib/python3.7/site-packages/selenium/webdriver/remote/webdriver.py\u001b[0m in \u001b[0;36mexecute\u001b[0;34m(self, driver_command, params)\u001b[0m\n\u001b[1;32m    319\u001b[0m         \u001b[0mresponse\u001b[0m \u001b[0;34m=\u001b[0m \u001b[0mself\u001b[0m\u001b[0;34m.\u001b[0m\u001b[0mcommand_executor\u001b[0m\u001b[0;34m.\u001b[0m\u001b[0mexecute\u001b[0m\u001b[0;34m(\u001b[0m\u001b[0mdriver_command\u001b[0m\u001b[0;34m,\u001b[0m \u001b[0mparams\u001b[0m\u001b[0;34m)\u001b[0m\u001b[0;34m\u001b[0m\u001b[0;34m\u001b[0m\u001b[0m\n\u001b[1;32m    320\u001b[0m         \u001b[0;32mif\u001b[0m \u001b[0mresponse\u001b[0m\u001b[0;34m:\u001b[0m\u001b[0;34m\u001b[0m\u001b[0;34m\u001b[0m\u001b[0m\n\u001b[0;32m--> 321\u001b[0;31m             \u001b[0mself\u001b[0m\u001b[0;34m.\u001b[0m\u001b[0merror_handler\u001b[0m\u001b[0;34m.\u001b[0m\u001b[0mcheck_response\u001b[0m\u001b[0;34m(\u001b[0m\u001b[0mresponse\u001b[0m\u001b[0;34m)\u001b[0m\u001b[0;34m\u001b[0m\u001b[0;34m\u001b[0m\u001b[0m\n\u001b[0m\u001b[1;32m    322\u001b[0m             response['value'] = self._unwrap_value(\n\u001b[1;32m    323\u001b[0m                 response.get('value', None))\n",
      "\u001b[0;32m~/miniconda3/envs/data_env/lib/python3.7/site-packages/selenium/webdriver/remote/errorhandler.py\u001b[0m in \u001b[0;36mcheck_response\u001b[0;34m(self, response)\u001b[0m\n\u001b[1;32m    240\u001b[0m                 \u001b[0malert_text\u001b[0m \u001b[0;34m=\u001b[0m \u001b[0mvalue\u001b[0m\u001b[0;34m[\u001b[0m\u001b[0;34m'alert'\u001b[0m\u001b[0;34m]\u001b[0m\u001b[0;34m.\u001b[0m\u001b[0mget\u001b[0m\u001b[0;34m(\u001b[0m\u001b[0;34m'text'\u001b[0m\u001b[0;34m)\u001b[0m\u001b[0;34m\u001b[0m\u001b[0;34m\u001b[0m\u001b[0m\n\u001b[1;32m    241\u001b[0m             \u001b[0;32mraise\u001b[0m \u001b[0mexception_class\u001b[0m\u001b[0;34m(\u001b[0m\u001b[0mmessage\u001b[0m\u001b[0;34m,\u001b[0m \u001b[0mscreen\u001b[0m\u001b[0;34m,\u001b[0m \u001b[0mstacktrace\u001b[0m\u001b[0;34m,\u001b[0m \u001b[0malert_text\u001b[0m\u001b[0;34m)\u001b[0m\u001b[0;34m\u001b[0m\u001b[0;34m\u001b[0m\u001b[0m\n\u001b[0;32m--> 242\u001b[0;31m         \u001b[0;32mraise\u001b[0m \u001b[0mexception_class\u001b[0m\u001b[0;34m(\u001b[0m\u001b[0mmessage\u001b[0m\u001b[0;34m,\u001b[0m \u001b[0mscreen\u001b[0m\u001b[0;34m,\u001b[0m \u001b[0mstacktrace\u001b[0m\u001b[0;34m)\u001b[0m\u001b[0;34m\u001b[0m\u001b[0;34m\u001b[0m\u001b[0m\n\u001b[0m\u001b[1;32m    243\u001b[0m \u001b[0;34m\u001b[0m\u001b[0m\n\u001b[1;32m    244\u001b[0m     \u001b[0;32mdef\u001b[0m \u001b[0m_value_or_default\u001b[0m\u001b[0;34m(\u001b[0m\u001b[0mself\u001b[0m\u001b[0;34m,\u001b[0m \u001b[0mobj\u001b[0m\u001b[0;34m,\u001b[0m \u001b[0mkey\u001b[0m\u001b[0;34m,\u001b[0m \u001b[0mdefault\u001b[0m\u001b[0;34m)\u001b[0m\u001b[0;34m:\u001b[0m\u001b[0;34m\u001b[0m\u001b[0;34m\u001b[0m\u001b[0m\n",
      "\u001b[0;31mNoSuchElementException\u001b[0m: Message: Unable to locate element: /html/body/div[1]/section[2]/div/section/div[2]/div[1]/table/tbody[1]/tr[1]/td[2]\n"
     ]
    }
   ],
   "source": [
    "from selenium.webdriver.common.keys import Keys\n",
    "\n",
    "browser = webdriver.Firefox()\n",
    "browser.get('http://www.renfe.com/')\n",
    "\n",
    "origin = browser.find_element_by_name('desOrigen')\n",
    "origin.send_keys(ORIGIN)\n",
    "origin.send_keys(Keys.ARROW_DOWN)\n",
    "origin.send_keys(Keys.ENTER)\n",
    "\n",
    "destination = browser.find_element_by_name('desDestino')\n",
    "destination.send_keys(DESTINATION)\n",
    "destination.send_keys(Keys.ARROW_DOWN)\n",
    "destination.send_keys(Keys.ENTER)\n",
    "\n",
    "date = browser.find_element_by_name('__fechaIdaVisual')\n",
    "date.send_keys(Keys.BACK_SPACE * 10)\n",
    "date.send_keys(DATE)\n",
    "\n",
    "destination.send_keys(Keys.ENTER)\n",
    "\n",
    "\n",
    "time.sleep(4)\n",
    "valor = browser.find_element_by_xpath('/html/body/div[1]/section[2]/div/section/div[2]/div[1]/table/tbody[1]/tr[1]/td[2]').text\n",
    "print(valor)\n",
    "\n",
    "rows = len(browser.find_elements_by_xpath('/html/body/div[1]/section[2]/div/section/div[2]/div[1]/table/tbody[1]/tr'))\n",
    "cols = len(browser.find_elements_by_xpath('/html/body/div[1]/section[2]/div/section/div[2]/div[1]/table/tbody[1]/tr[1]/td'))\n",
    "\n",
    "print(f'rows:  {rows}')\n",
    "print(f'columns: {cols}')\n",
    "\n",
    "for i in range(1, rows+1):\n",
    "    for j in range(2,cols):\n",
    "        data = browser.find_element_by_xpath('/html/body/div[1]/section[2]/div/section/div[2]/div[1]/table/tbody[1]/tr['+str(i)+']/td['+str(j)+']').text.split(';')\n",
    "        df = DataFrame(data)\n",
    "df\n",
    "        \n",
    "        \n",
    "        "
   ]
  },
  {
   "cell_type": "code",
   "execution_count": null,
   "metadata": {},
   "outputs": [],
   "source": []
  }
 ],
 "metadata": {
  "kernelspec": {
   "display_name": "Python [conda env:data_env]",
   "language": "python",
   "name": "conda-env-data_env-py"
  },
  "language_info": {
   "codemirror_mode": {
    "name": "ipython",
    "version": 3
   },
   "file_extension": ".py",
   "mimetype": "text/x-python",
   "name": "python",
   "nbconvert_exporter": "python",
   "pygments_lexer": "ipython3",
   "version": "3.7.5"
  }
 },
 "nbformat": 4,
 "nbformat_minor": 4
}
