{
 "cells": [
  {
   "cell_type": "markdown",
   "metadata": {},
   "source": [
    "# Selenium"
   ]
  },
  {
   "cell_type": "markdown",
   "metadata": {},
   "source": [
    "_\"Selenium is the most amazing way to automate a web browser\"_ by Pedro Muñoz"
   ]
  },
  {
   "cell_type": "markdown",
   "metadata": {},
   "source": [
    "https://selenium-python.readthedocs.io/"
   ]
  },
  {
   "cell_type": "markdown",
   "metadata": {},
   "source": [
    "## Installation"
   ]
  },
  {
   "cell_type": "code",
   "execution_count": 1,
   "metadata": {},
   "outputs": [],
   "source": [
    "#!pip install selenium"
   ]
  },
  {
   "cell_type": "markdown",
   "metadata": {},
   "source": [
    "### Driver"
   ]
  },
  {
   "cell_type": "code",
   "execution_count": 2,
   "metadata": {},
   "outputs": [],
   "source": [
    "# it is necessary to add the driver to the PATH variable\n",
    "import os\n",
    "\n",
    "os.environ['PATH'] = f'{os.environ[\"PATH\"]}:{os.getcwd()}/drivers'"
   ]
  },
  {
   "cell_type": "code",
   "execution_count": 3,
   "metadata": {},
   "outputs": [
    {
     "data": {
      "text/plain": [
       "'/Users/victorgalan/miniconda3/envs/proj_env/bin:/Users/victorgalan/miniconda3/condabin:/usr/local/bin:/usr/bin:/bin:/usr/sbin:/sbin:/Users/victorgalan/ironhack/git/projects/Ironhack-Final-Project---FurniTour/ikea_scraper/drivers'"
      ]
     },
     "execution_count": 3,
     "metadata": {},
     "output_type": "execute_result"
    }
   ],
   "source": [
    "os.environ['PATH']"
   ]
  },
  {
   "cell_type": "markdown",
   "metadata": {},
   "source": [
    "I have downloaded and installed geckodriver for MacOS from https://github.com/mozilla/geckodriver/releases"
   ]
  },
  {
   "cell_type": "markdown",
   "metadata": {},
   "source": [
    "## Imports:"
   ]
  },
  {
   "cell_type": "code",
   "execution_count": 4,
   "metadata": {},
   "outputs": [],
   "source": [
    "from selenium import webdriver\n",
    "import time \n",
    "import numpy as np\n",
    "import pandas as pd"
   ]
  },
  {
   "cell_type": "markdown",
   "metadata": {},
   "source": [
    "### Getting some fresh Renfe tickets"
   ]
  },
  {
   "cell_type": "code",
   "execution_count": 56,
   "metadata": {},
   "outputs": [
    {
     "name": "stdout",
     "output_type": "stream",
     "text": [
      "load more: 1\n",
      "load more: 2\n",
      "load more: 3\n",
      "load more: 4\n",
      "load more: 5\n",
      "load more: 6\n",
      "load more: 7\n",
      "load more: 8\n",
      "load more: 9\n",
      "load more: 10\n",
      "load more: 11\n",
      "load more: 12\n",
      "load more: 13\n",
      "load more: 14\n",
      "load more: 15\n",
      "load more: 16\n",
      "load more: 17\n",
      "load more: 18\n",
      "load more: 19\n",
      "load more: 20\n",
      "load more: 21\n",
      "load more: 22\n",
      "load more: 23\n",
      "load more: 24\n",
      "load more: 25\n",
      "load more: 26\n",
      "load more: 27\n",
      "load more: 28\n",
      "load more: 29\n",
      "load more: 30\n",
      "load more: 31\n",
      "load more: 32\n",
      "load more: 33\n",
      "load more: 34\n",
      "load more: 35\n",
      "load more: 36\n",
      "load more: 37\n",
      "load more: 38\n",
      "load more: 39\n",
      "Something went wrong\n",
      "fin_finally\n"
     ]
    },
    {
     "data": {
      "text/plain": [
       "'time.sleep(10)\\ndriver.close()'"
      ]
     },
     "execution_count": 56,
     "metadata": {},
     "output_type": "execute_result"
    }
   ],
   "source": [
    "from selenium import webdriver\n",
    "\n",
    "from selenium.webdriver.common.keys import Keys\n",
    "from selenium.common.exceptions import *\n",
    "from selenium.webdriver.support.ui import WebDriverWait\n",
    "\n",
    "\n",
    "\n",
    "driver = webdriver.Firefox()\n",
    "\n",
    "url = 'https://www.ikea.com/es/es/cat/productos-products/'\n",
    "driver.get(url)\n",
    "\n",
    "link_text = 'Sillas'\n",
    "directory = 'img_ikea_'+link_text\n",
    "\n",
    "\n",
    "\n",
    "\n",
    "link = driver.find_element_by_link_text(link_text)    \n",
    "link.click()\n",
    "\n",
    "time.sleep(1)\n",
    "\n",
    "'''continue_link = driver.find_element_by_partial_link_text('Cargar más')\n",
    "continue_link.click()'''\n",
    "\n",
    "\n",
    "\n",
    "\n",
    "try:\n",
    "    count = 0\n",
    "    while True:\n",
    "        continue_link = driver.find_element_by_partial_link_text('Cargar más')\n",
    "        continue_link.click()\n",
    "        time.sleep(1)\n",
    "        count += 1\n",
    "        print(f'load more: {count}')\n",
    "    print('Finished, all elements were loaded')\n",
    "    pass\n",
    "\n",
    "\n",
    "except:\n",
    "    pass\n",
    "    print('Reached the last element')\n",
    "    \n",
    "finally:\n",
    "    print('Resuming')\n",
    "    pass\n",
    "\n",
    "\n",
    "'''time.sleep(10)\n",
    "driver.close()'''"
   ]
  },
  {
   "cell_type": "code",
   "execution_count": 57,
   "metadata": {},
   "outputs": [],
   "source": [
    "import urllib.request as ulib\n",
    "from bs4 import BeautifulSoup as Soup\n",
    "import ast"
   ]
  },
  {
   "cell_type": "code",
   "execution_count": 58,
   "metadata": {},
   "outputs": [
    {
     "data": {
      "text/plain": [
       "['https://www.ikea.com/es/es/images/products/fanbyn-chair-white__0587379_PE672586_S5.JPG?f=xs',\n",
       " 'https://www.ikea.com/es/es/images/products/leifarne-chair__0745133_PE743594_S5.JPG?f=xs',\n",
       " 'https://www.ikea.com/es/es/images/products/ekedalen-chair-white-orrsta-light-grey__0728310_PE736178_S5.JPG?f=xs',\n",
       " 'https://www.ikea.com/es/es/images/products/odger-swivel-chair-white-beige__0734069_PE739278_S5.JPG?f=xs',\n",
       " 'https://www.ikea.com/es/es/images/products/laneberg-ekedalen-table-and-4-chairs-white-white-light-grey__0754618_PE747985_S5.JPG?f=xs']"
      ]
     },
     "execution_count": 58,
     "metadata": {},
     "output_type": "execute_result"
    }
   ],
   "source": [
    "page = driver.page_source\n",
    "\n",
    "\n",
    "# soup = Soup(page,'lxml')\n",
    "# urls = soup.find_all('div',{'class':'product-compact__image'})\n",
    "\n",
    "# urls[1]\n",
    "\n",
    "# all_urls = []\n",
    "# for i in urls:\n",
    "#     link = i.text\n",
    "#     link = ast.literal_eval(link)['ou']\n",
    "#     print(link)\n",
    "#     all_urls.append(link)\n",
    "# return all_urls\n",
    "\n",
    "image_list = []\n",
    "soup = Soup(page, 'html.parser')\n",
    "for link in soup.find_all('img'):\n",
    "    src = link.get('src')\n",
    "    if src.startswith('https://www.ikea.com/es/es/images/products/'): #check src starts with https\n",
    "        image_list.append(src)\n",
    "image_list[0:5]"
   ]
  },
  {
   "cell_type": "code",
   "execution_count": 59,
   "metadata": {},
   "outputs": [
    {
     "data": {
      "text/plain": [
       "'im_ikea_Sillas'"
      ]
     },
     "execution_count": 59,
     "metadata": {},
     "output_type": "execute_result"
    }
   ],
   "source": [
    "directory"
   ]
  },
  {
   "cell_type": "code",
   "execution_count": 62,
   "metadata": {},
   "outputs": [
    {
     "name": "stdout",
     "output_type": "stream",
     "text": [
      "Failed: \n"
     ]
    }
   ],
   "source": [
    "\n",
    "def save_img(url,directory):\n",
    "    if not os.path.isdir(directory):\n",
    "        os.mkdir(directory)\n",
    "\n",
    "    for i,link in enumerate(url):\n",
    "        path = os.path.join(directory,'{:04}.jpg'.format(i))\n",
    "        try:\n",
    "            ulib.urlretrieve(link,path)\n",
    "        except:\n",
    "            print('Failed: ')\n",
    "\n",
    "save_img(image_list,directory)"
   ]
  },
  {
   "cell_type": "code",
   "execution_count": null,
   "metadata": {},
   "outputs": [],
   "source": [
    "driver.close()"
   ]
  }
 ],
 "metadata": {
  "kernelspec": {
   "display_name": "proj_env",
   "language": "python",
   "name": "proj_env"
  },
  "language_info": {
   "codemirror_mode": {
    "name": "ipython",
    "version": 3
   },
   "file_extension": ".py",
   "mimetype": "text/x-python",
   "name": "python",
   "nbconvert_exporter": "python",
   "pygments_lexer": "ipython3",
   "version": "3.8.1"
  }
 },
 "nbformat": 4,
 "nbformat_minor": 4
}
