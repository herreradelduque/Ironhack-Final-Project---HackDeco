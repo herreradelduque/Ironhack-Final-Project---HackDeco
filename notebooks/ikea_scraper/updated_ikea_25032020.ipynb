{
 "cells": [
  {
   "cell_type": "markdown",
   "metadata": {},
   "source": [
    "# Ikea scraper"
   ]
  },
  {
   "cell_type": "markdown",
   "metadata": {},
   "source": [
    "## Installation"
   ]
  },
  {
   "cell_type": "code",
   "execution_count": 1,
   "metadata": {},
   "outputs": [],
   "source": [
    "#!pip install selenium"
   ]
  },
  {
   "cell_type": "markdown",
   "metadata": {},
   "source": [
    "### Driver"
   ]
  },
  {
   "cell_type": "code",
   "execution_count": 2,
   "metadata": {},
   "outputs": [],
   "source": [
    "# it is necessary to add the driver to the PATH variable\n",
    "import os\n",
    "\n",
    "os.environ['PATH'] = f'{os.environ[\"PATH\"]}:{os.getcwd()}/drivers'"
   ]
  },
  {
   "cell_type": "code",
   "execution_count": 3,
   "metadata": {},
   "outputs": [
    {
     "data": {
      "text/plain": [
       "'/Users/victorgalan/miniconda3/envs/proj_env/bin:/Users/victorgalan/miniconda3/condabin:/usr/local/bin:/usr/bin:/bin:/usr/sbin:/sbin:/Users/victorgalan/ironhack/git/projects/Ironhack-Final-Project---FurniTour_20200321/Notebooks/ikea_scraper/drivers'"
      ]
     },
     "execution_count": 3,
     "metadata": {},
     "output_type": "execute_result"
    }
   ],
   "source": [
    "os.environ['PATH']"
   ]
  },
  {
   "cell_type": "markdown",
   "metadata": {},
   "source": [
    "I have downloaded and installed geckodriver for MacOS from https://github.com/mozilla/geckodriver/releases"
   ]
  },
  {
   "cell_type": "markdown",
   "metadata": {},
   "source": [
    "## Imports:"
   ]
  },
  {
   "cell_type": "code",
   "execution_count": 4,
   "metadata": {},
   "outputs": [],
   "source": [
    "from selenium import webdriver\n",
    "import time \n",
    "import numpy as np\n",
    "import pandas as pd\n",
    "\n",
    "from selenium.webdriver.common.keys import Keys\n",
    "from selenium.common.exceptions import *\n",
    "from selenium.webdriver.support.ui import WebDriverWait\n",
    "\n",
    "\n",
    "\n",
    "import urllib.request as ulib\n",
    "from bs4 import BeautifulSoup\n",
    "import ast\n",
    "\n",
    "import regex as re"
   ]
  },
  {
   "cell_type": "markdown",
   "metadata": {},
   "source": [
    "### Getting some fresh Ikea pics"
   ]
  },
  {
   "cell_type": "code",
   "execution_count": 7,
   "metadata": {},
   "outputs": [],
   "source": [
    "shop = 'ikea'\n",
    "product = 'Sillas'\n",
    "directory = 'img_' + shop + '_' + product"
   ]
  },
  {
   "cell_type": "code",
   "execution_count": 8,
   "metadata": {},
   "outputs": [
    {
     "data": {
      "text/plain": [
       "'img_ikea_Sillas'"
      ]
     },
     "execution_count": 8,
     "metadata": {},
     "output_type": "execute_result"
    }
   ],
   "source": [
    "directory"
   ]
  },
  {
   "cell_type": "code",
   "execution_count": 9,
   "metadata": {},
   "outputs": [
    {
     "data": {
      "text/plain": [
       "\" #trials with DBR:\\nuser_selected_product = 'http://myapp.net/search?product=Sillas'\\n\""
      ]
     },
     "execution_count": 9,
     "metadata": {},
     "output_type": "execute_result"
    }
   ],
   "source": [
    "''' #trials with DBR:\n",
    "user_selected_product = 'http://myapp.net/search?product=Sillas'\n",
    "'''"
   ]
  },
  {
   "cell_type": "code",
   "execution_count": 11,
   "metadata": {},
   "outputs": [
    {
     "data": {
      "text/plain": [
       "\"product = user_selected_product.replace('http://myapp.net/search?product=','')\\nproduct\""
      ]
     },
     "execution_count": 11,
     "metadata": {},
     "output_type": "execute_result"
    }
   ],
   "source": [
    "'''product = user_selected_product.replace('http://myapp.net/search?product=','')\n",
    "product'''"
   ]
  },
  {
   "cell_type": "markdown",
   "metadata": {},
   "source": [
    "## Launch Firefox:"
   ]
  },
  {
   "cell_type": "code",
   "execution_count": 17,
   "metadata": {},
   "outputs": [],
   "source": [
    "driver = webdriver.Firefox()\n",
    "\n",
    "url_ikea = 'https://www.ikea.com/es/es/cat/productos-products/'\n",
    "driver.get(url_ikea)"
   ]
  },
  {
   "cell_type": "code",
   "execution_count": 19,
   "metadata": {},
   "outputs": [
    {
     "name": "stdout",
     "output_type": "stream",
     "text": [
      "Load more: 1\n",
      "Load more: 2\n",
      "Load more: 3\n",
      "Load more: 4\n",
      "Load more: 5\n",
      "Load more: 6\n",
      "Load more: 7\n",
      "Load more: 8\n",
      "Load more: 9\n",
      "Load more: 10\n",
      "Load more: 11\n",
      "Load more: 12\n",
      "Load more: 13\n",
      "Load more: 14\n",
      "Load more: 15\n",
      "Load more: 16\n",
      "Load more: 17\n",
      "Load more: 18\n",
      "Load more: 19\n",
      "Load more: 20\n",
      "Load more: 21\n",
      "Load more: 22\n",
      "Load more: 23\n",
      "Load more: 24\n",
      "Load more: 25\n",
      "Load more: 26\n",
      "Load more: 27\n",
      "Load more: 28\n",
      "Load more: 29\n",
      "Load more: 30\n",
      "Load more: 31\n",
      "Load more: 32\n",
      "Load more: 33\n",
      "Load more: 34\n",
      "Load more: 35\n",
      "Load more: 36\n",
      "Load more: 37\n",
      "Load more: 38\n",
      "Load more: 39\n",
      "Resuming\n"
     ]
    }
   ],
   "source": [
    "if product == 'Sillas':\n",
    "    product_tag = 'Todas las sillas'\n",
    "\n",
    "link = driver.find_element_by_link_text(product_tag)    \n",
    "link.click()\n",
    "\n",
    "time.sleep(1)\n",
    "\n",
    "\n",
    "try:\n",
    "    count = 0\n",
    "    while True:\n",
    "        continue_link = driver.find_element_by_partial_link_text('Cargar más')\n",
    "        continue_link.click()\n",
    "        time.sleep(1)\n",
    "        count += 1\n",
    "        print(f'Load more: {count}')\n",
    "    pass\n",
    "    print('Reached the last element')\n",
    "\n",
    "\n",
    "except:\n",
    "    pass\n",
    "    \n",
    "finally:\n",
    "    print('Resuming')\n",
    "    pass"
   ]
  },
  {
   "cell_type": "code",
   "execution_count": 20,
   "metadata": {},
   "outputs": [],
   "source": [
    "# Take urls of all the products images:"
   ]
  },
  {
   "cell_type": "code",
   "execution_count": 21,
   "metadata": {},
   "outputs": [
    {
     "data": {
      "text/plain": [
       "['https://www.ikea.com/es/es/images/products/fanbyn-chair-white__0587379_PE672586_S5.JPG?f=xs',\n",
       " 'https://www.ikea.com/es/es/images/products/leifarne-chair-dark-yellow-ernfrid-birch__0745133_PE743594_S5.JPG?f=xs',\n",
       " 'https://www.ikea.com/es/es/images/products/ekedalen-chair__0728310_PE736178_S5.JPG?f=xs',\n",
       " 'https://www.ikea.com/es/es/images/products/odger-swivel-chair-white-beige__0734069_PE739278_S5.JPG?f=xs',\n",
       " 'https://www.ikea.com/es/es/images/products/torparoe-armchair-in-outdoor-white-beige__0812003_PE771902_S5.JPG?f=xs']"
      ]
     },
     "execution_count": 21,
     "metadata": {},
     "output_type": "execute_result"
    }
   ],
   "source": [
    "page = driver.page_source\n",
    "soup = BeautifulSoup(page, 'html.parser')\n",
    "\n",
    "\n",
    "image_list = []\n",
    "\n",
    "for link in soup.find_all('img'):\n",
    "    src = link.get('src')\n",
    "    if src.startswith('https://www.ikea.com/es/es/images/products/'): #check src starts with...\n",
    "        image_list.append(src)\n",
    "        \n",
    "image_list[0:5]\n"
   ]
  },
  {
   "cell_type": "code",
   "execution_count": 22,
   "metadata": {},
   "outputs": [],
   "source": [
    "# Take the urls to buy all the products:"
   ]
  },
  {
   "cell_type": "code",
   "execution_count": 39,
   "metadata": {},
   "outputs": [
    {
     "data": {
      "text/plain": [
       "['https://www.ikea.com/es/es/p/fanbyn-silla-blanco-s49228474/',\n",
       " 'https://www.ikea.com/es/es/p/leifarne-silla-amarillo-oscuro-ernfrid-abedul-s69304216/',\n",
       " 'https://www.ikea.com/es/es/p/ekedalen-silla-blanco-orrsta-gris-claro-60341015/',\n",
       " 'https://www.ikea.com/es/es/p/odger-silla-giratoria-blanco-beige-70308685/',\n",
       " 'https://www.ikea.com/es/es/p/torparo-silla-con-reposabrz-int-ext-blanco-beige-90420761/']"
      ]
     },
     "execution_count": 39,
     "metadata": {},
     "output_type": "execute_result"
    }
   ],
   "source": [
    "buy_url_list = []\n",
    "buy_url_list_unique = []\n",
    "\n",
    "\n",
    "all_a = soup.select('.product-compact__spacer a')\n",
    "\n",
    "for a in all_a:\n",
    "    buy_url_list.append(a['href'])\n",
    "        \n",
    "for i in buy_url_list:\n",
    "    if i not in buy_url_list_unique:\n",
    "        if 'openPopup=fiche' not in i:\n",
    "            buy_url_list_unique.append(i)\n",
    "\n",
    "buy_url_list_unique[0:5]"
   ]
  },
  {
   "cell_type": "code",
   "execution_count": 40,
   "metadata": {},
   "outputs": [],
   "source": [
    "# Take the name of all products:"
   ]
  },
  {
   "cell_type": "code",
   "execution_count": 41,
   "metadata": {},
   "outputs": [
    {
     "data": {
      "text/plain": [
       "['FANBYN', 'LEIFARNE', 'EKEDALEN', 'ODGER', 'TORPARÖ']"
      ]
     },
     "execution_count": 41,
     "metadata": {},
     "output_type": "execute_result"
    }
   ],
   "source": [
    "product_names_list = []\n",
    "\n",
    "names = soup.select('div.product-compact__spacer span.product-compact__name')\n",
    "for name in names:\n",
    "    product_names_list.append(name.text)\n",
    "    \n",
    "product_names_list[0:5]\n"
   ]
  },
  {
   "cell_type": "code",
   "execution_count": 42,
   "metadata": {},
   "outputs": [],
   "source": [
    "# Take the type of product:"
   ]
  },
  {
   "cell_type": "code",
   "execution_count": 43,
   "metadata": {},
   "outputs": [
    {
     "data": {
      "text/plain": [
       "['Silla', 'Silla', 'Silla', 'Silla giratoria', 'Silla con reposabrz int/ext']"
      ]
     },
     "execution_count": 43,
     "metadata": {},
     "output_type": "execute_result"
    }
   ],
   "source": [
    "product_types_list = []\n",
    "\n",
    "types = soup.select('div.product-compact__spacer span.product-compact__type')\n",
    "for type_ in types:\n",
    "    product_types_list.append(((type_.text).replace('\\n','')).strip().replace('         ',''))\n",
    "\n",
    "product_types_list[0:5]\n"
   ]
  },
  {
   "cell_type": "code",
   "execution_count": 44,
   "metadata": {},
   "outputs": [],
   "source": [
    "# Take the price of every product:"
   ]
  },
  {
   "cell_type": "code",
   "execution_count": 45,
   "metadata": {},
   "outputs": [
    {
     "data": {
      "text/plain": [
       "['45€', '55€', '45€', '89€', '25€']"
      ]
     },
     "execution_count": 45,
     "metadata": {},
     "output_type": "execute_result"
    }
   ],
   "source": [
    "product_price_list = []\n",
    "\n",
    "prices = soup.select('div.product-compact__spacer span.product-compact__price__value')\n",
    "for price in prices:\n",
    "    product_price_list.append(price.text)\n",
    "\n",
    "product_price_list[0:5]"
   ]
  },
  {
   "cell_type": "code",
   "execution_count": 46,
   "metadata": {},
   "outputs": [],
   "source": [
    "# Created a codified name to put to each image:"
   ]
  },
  {
   "cell_type": "code",
   "execution_count": 47,
   "metadata": {},
   "outputs": [
    {
     "data": {
      "text/plain": [
       "['Silla_FANBYN',\n",
       " 'Silla_LEIFARNE',\n",
       " 'Silla_EKEDALEN',\n",
       " 'Silla giratoria_ODGER',\n",
       " 'Silla con reposabrz int/ext_TORPARÖ']"
      ]
     },
     "execution_count": 47,
     "metadata": {},
     "output_type": "execute_result"
    }
   ],
   "source": [
    "coded =[]\n",
    "for i in range(len(product_names_list)):\n",
    "    coded.append(product_types_list[i]+'_'+product_names_list[i])\n",
    "coded[0:5]"
   ]
  },
  {
   "cell_type": "code",
   "execution_count": 48,
   "metadata": {},
   "outputs": [
    {
     "data": {
      "text/plain": [
       "'https://www.ikea.com/es/es/cat/productos-products/'"
      ]
     },
     "execution_count": 48,
     "metadata": {},
     "output_type": "execute_result"
    }
   ],
   "source": [
    "url_ikea"
   ]
  },
  {
   "cell_type": "markdown",
   "metadata": {},
   "source": [
    "## Create function to save scrapped images"
   ]
  },
  {
   "cell_type": "code",
   "execution_count": 72,
   "metadata": {},
   "outputs": [],
   "source": [
    "def save_img(url,directory):\n",
    "    if not os.path.isdir(directory):\n",
    "        os.mkdir(directory)\n",
    "\n",
    "    for i,link in enumerate(url):\n",
    "        path = os.path.join(directory,'{:04}.jpg'.format(i))\n",
    "        try:\n",
    "            ulib.urlretrieve(link,path)\n",
    "        except:\n",
    "            print('Failed: ')\n",
    "\n",
    "# save_img(image_list,directory)"
   ]
  },
  {
   "cell_type": "markdown",
   "metadata": {},
   "source": [
    "# Check the lengths of the lists:"
   ]
  },
  {
   "cell_type": "code",
   "execution_count": 50,
   "metadata": {},
   "outputs": [
    {
     "data": {
      "text/plain": [
       "939"
      ]
     },
     "execution_count": 50,
     "metadata": {},
     "output_type": "execute_result"
    }
   ],
   "source": [
    "len(image_list)"
   ]
  },
  {
   "cell_type": "code",
   "execution_count": 58,
   "metadata": {},
   "outputs": [
    {
     "data": {
      "text/plain": [
       "939"
      ]
     },
     "execution_count": 58,
     "metadata": {},
     "output_type": "execute_result"
    }
   ],
   "source": [
    "len(buy_url_list_unique)"
   ]
  },
  {
   "cell_type": "code",
   "execution_count": 59,
   "metadata": {},
   "outputs": [
    {
     "data": {
      "text/plain": [
       "939"
      ]
     },
     "execution_count": 59,
     "metadata": {},
     "output_type": "execute_result"
    }
   ],
   "source": [
    "len(product_names_list)"
   ]
  },
  {
   "cell_type": "code",
   "execution_count": 60,
   "metadata": {},
   "outputs": [
    {
     "data": {
      "text/plain": [
       "939"
      ]
     },
     "execution_count": 60,
     "metadata": {},
     "output_type": "execute_result"
    }
   ],
   "source": [
    "len(product_types_list)"
   ]
  },
  {
   "cell_type": "code",
   "execution_count": 61,
   "metadata": {},
   "outputs": [
    {
     "data": {
      "text/plain": [
       "939"
      ]
     },
     "execution_count": 61,
     "metadata": {},
     "output_type": "execute_result"
    }
   ],
   "source": [
    "len(product_price_list)"
   ]
  },
  {
   "cell_type": "code",
   "execution_count": 62,
   "metadata": {},
   "outputs": [],
   "source": [
    "scraped_dict = {'Type':product_types_list,'Name':product_names_list,'Price':product_price_list,'Image_url':image_list,'Buy_url':buy_url_list_unique}"
   ]
  },
  {
   "cell_type": "markdown",
   "metadata": {},
   "source": [
    "# Create DataFrame:"
   ]
  },
  {
   "cell_type": "code",
   "execution_count": 63,
   "metadata": {},
   "outputs": [],
   "source": [
    "furnitures_df = pd.DataFrame(scraped_dict)"
   ]
  },
  {
   "cell_type": "code",
   "execution_count": 64,
   "metadata": {},
   "outputs": [
    {
     "data": {
      "text/html": [
       "<div>\n",
       "<style scoped>\n",
       "    .dataframe tbody tr th:only-of-type {\n",
       "        vertical-align: middle;\n",
       "    }\n",
       "\n",
       "    .dataframe tbody tr th {\n",
       "        vertical-align: top;\n",
       "    }\n",
       "\n",
       "    .dataframe thead th {\n",
       "        text-align: right;\n",
       "    }\n",
       "</style>\n",
       "<table border=\"1\" class=\"dataframe\">\n",
       "  <thead>\n",
       "    <tr style=\"text-align: right;\">\n",
       "      <th></th>\n",
       "      <th>Type</th>\n",
       "      <th>Name</th>\n",
       "      <th>Price</th>\n",
       "      <th>Image_url</th>\n",
       "      <th>Buy_url</th>\n",
       "    </tr>\n",
       "  </thead>\n",
       "  <tbody>\n",
       "    <tr>\n",
       "      <th>0</th>\n",
       "      <td>Silla</td>\n",
       "      <td>FANBYN</td>\n",
       "      <td>45€</td>\n",
       "      <td>https://www.ikea.com/es/es/images/products/fan...</td>\n",
       "      <td>https://www.ikea.com/es/es/p/fanbyn-silla-blan...</td>\n",
       "    </tr>\n",
       "    <tr>\n",
       "      <th>1</th>\n",
       "      <td>Silla</td>\n",
       "      <td>LEIFARNE</td>\n",
       "      <td>55€</td>\n",
       "      <td>https://www.ikea.com/es/es/images/products/lei...</td>\n",
       "      <td>https://www.ikea.com/es/es/p/leifarne-silla-am...</td>\n",
       "    </tr>\n",
       "    <tr>\n",
       "      <th>2</th>\n",
       "      <td>Silla</td>\n",
       "      <td>EKEDALEN</td>\n",
       "      <td>45€</td>\n",
       "      <td>https://www.ikea.com/es/es/images/products/eke...</td>\n",
       "      <td>https://www.ikea.com/es/es/p/ekedalen-silla-bl...</td>\n",
       "    </tr>\n",
       "    <tr>\n",
       "      <th>3</th>\n",
       "      <td>Silla giratoria</td>\n",
       "      <td>ODGER</td>\n",
       "      <td>89€</td>\n",
       "      <td>https://www.ikea.com/es/es/images/products/odg...</td>\n",
       "      <td>https://www.ikea.com/es/es/p/odger-silla-girat...</td>\n",
       "    </tr>\n",
       "    <tr>\n",
       "      <th>4</th>\n",
       "      <td>Silla con reposabrz int/ext</td>\n",
       "      <td>TORPARÖ</td>\n",
       "      <td>25€</td>\n",
       "      <td>https://www.ikea.com/es/es/images/products/tor...</td>\n",
       "      <td>https://www.ikea.com/es/es/p/torparo-silla-con...</td>\n",
       "    </tr>\n",
       "    <tr>\n",
       "      <th>...</th>\n",
       "      <td>...</td>\n",
       "      <td>...</td>\n",
       "      <td>...</td>\n",
       "      <td>...</td>\n",
       "      <td>...</td>\n",
       "    </tr>\n",
       "    <tr>\n",
       "      <th>934</th>\n",
       "      <td>Mesa con 4 sillas, 145 cm</td>\n",
       "      <td>MÖRBYLÅNGA / TOSSBERG</td>\n",
       "      <td>1.215€</td>\n",
       "      <td>https://www.ikea.com/es/es/images/products/moe...</td>\n",
       "      <td>https://www.ikea.com/es/es/p/morbylanga-tossbe...</td>\n",
       "    </tr>\n",
       "    <tr>\n",
       "      <th>935</th>\n",
       "      <td>Sillón</td>\n",
       "      <td>LEIFARNE</td>\n",
       "      <td>56€</td>\n",
       "      <td>https://www.ikea.com/es/es/images/products/lei...</td>\n",
       "      <td>https://www.ikea.com/es/es/p/leifarne-sillon-v...</td>\n",
       "    </tr>\n",
       "    <tr>\n",
       "      <th>936</th>\n",
       "      <td>Mesa con 4 sillas, 130/190x80 cm</td>\n",
       "      <td>LANEBERG / KARLJAN</td>\n",
       "      <td>285€</td>\n",
       "      <td>https://www.ikea.com/es/es/images/products/lan...</td>\n",
       "      <td>https://www.ikea.com/es/es/p/laneberg-karljan-...</td>\n",
       "    </tr>\n",
       "    <tr>\n",
       "      <th>937</th>\n",
       "      <td>Mesa con 4 sillas, 152/223x95 cm</td>\n",
       "      <td>NORDVIKEN / RÖNNINGE</td>\n",
       "      <td>615€</td>\n",
       "      <td>https://www.ikea.com/es/es/images/products/nor...</td>\n",
       "      <td>https://www.ikea.com/es/es/p/nordviken-ronning...</td>\n",
       "    </tr>\n",
       "    <tr>\n",
       "      <th>938</th>\n",
       "      <td>Mesa con 4 sillas, 152/223x95 cm</td>\n",
       "      <td>NORDVIKEN / LEIFARNE</td>\n",
       "      <td>438,96€</td>\n",
       "      <td>https://www.ikea.com/es/es/images/products/nor...</td>\n",
       "      <td>https://www.ikea.com/es/es/p/nordviken-leifarn...</td>\n",
       "    </tr>\n",
       "  </tbody>\n",
       "</table>\n",
       "<p>939 rows × 5 columns</p>\n",
       "</div>"
      ],
      "text/plain": [
       "                                 Type                   Name    Price  \\\n",
       "0                               Silla                 FANBYN      45€   \n",
       "1                               Silla               LEIFARNE      55€   \n",
       "2                               Silla               EKEDALEN      45€   \n",
       "3                     Silla giratoria                  ODGER      89€   \n",
       "4         Silla con reposabrz int/ext                TORPARÖ      25€   \n",
       "..                                ...                    ...      ...   \n",
       "934         Mesa con 4 sillas, 145 cm  MÖRBYLÅNGA / TOSSBERG   1.215€   \n",
       "935                            Sillón               LEIFARNE      56€   \n",
       "936  Mesa con 4 sillas, 130/190x80 cm     LANEBERG / KARLJAN     285€   \n",
       "937  Mesa con 4 sillas, 152/223x95 cm   NORDVIKEN / RÖNNINGE     615€   \n",
       "938  Mesa con 4 sillas, 152/223x95 cm   NORDVIKEN / LEIFARNE  438,96€   \n",
       "\n",
       "                                             Image_url  \\\n",
       "0    https://www.ikea.com/es/es/images/products/fan...   \n",
       "1    https://www.ikea.com/es/es/images/products/lei...   \n",
       "2    https://www.ikea.com/es/es/images/products/eke...   \n",
       "3    https://www.ikea.com/es/es/images/products/odg...   \n",
       "4    https://www.ikea.com/es/es/images/products/tor...   \n",
       "..                                                 ...   \n",
       "934  https://www.ikea.com/es/es/images/products/moe...   \n",
       "935  https://www.ikea.com/es/es/images/products/lei...   \n",
       "936  https://www.ikea.com/es/es/images/products/lan...   \n",
       "937  https://www.ikea.com/es/es/images/products/nor...   \n",
       "938  https://www.ikea.com/es/es/images/products/nor...   \n",
       "\n",
       "                                               Buy_url  \n",
       "0    https://www.ikea.com/es/es/p/fanbyn-silla-blan...  \n",
       "1    https://www.ikea.com/es/es/p/leifarne-silla-am...  \n",
       "2    https://www.ikea.com/es/es/p/ekedalen-silla-bl...  \n",
       "3    https://www.ikea.com/es/es/p/odger-silla-girat...  \n",
       "4    https://www.ikea.com/es/es/p/torparo-silla-con...  \n",
       "..                                                 ...  \n",
       "934  https://www.ikea.com/es/es/p/morbylanga-tossbe...  \n",
       "935  https://www.ikea.com/es/es/p/leifarne-sillon-v...  \n",
       "936  https://www.ikea.com/es/es/p/laneberg-karljan-...  \n",
       "937  https://www.ikea.com/es/es/p/nordviken-ronning...  \n",
       "938  https://www.ikea.com/es/es/p/nordviken-leifarn...  \n",
       "\n",
       "[939 rows x 5 columns]"
      ]
     },
     "execution_count": 64,
     "metadata": {},
     "output_type": "execute_result"
    }
   ],
   "source": [
    "furnitures_df"
   ]
  },
  {
   "cell_type": "code",
   "execution_count": 68,
   "metadata": {},
   "outputs": [
    {
     "data": {
      "text/html": [
       "<div>\n",
       "<style scoped>\n",
       "    .dataframe tbody tr th:only-of-type {\n",
       "        vertical-align: middle;\n",
       "    }\n",
       "\n",
       "    .dataframe tbody tr th {\n",
       "        vertical-align: top;\n",
       "    }\n",
       "\n",
       "    .dataframe thead th {\n",
       "        text-align: right;\n",
       "    }\n",
       "</style>\n",
       "<table border=\"1\" class=\"dataframe\">\n",
       "  <thead>\n",
       "    <tr style=\"text-align: right;\">\n",
       "      <th></th>\n",
       "      <th>Type</th>\n",
       "      <th>Name</th>\n",
       "      <th>Price</th>\n",
       "      <th>Image_url</th>\n",
       "      <th>Buy_url</th>\n",
       "    </tr>\n",
       "  </thead>\n",
       "  <tbody>\n",
       "    <tr>\n",
       "      <th>0</th>\n",
       "      <td>Silla</td>\n",
       "      <td>FANBYN</td>\n",
       "      <td>45€</td>\n",
       "      <td>https://www.ikea.com/es/es/images/products/fan...</td>\n",
       "      <td>https://www.ikea.com/es/es/p/fanbyn-silla-blan...</td>\n",
       "    </tr>\n",
       "    <tr>\n",
       "      <th>1</th>\n",
       "      <td>Silla</td>\n",
       "      <td>LEIFARNE</td>\n",
       "      <td>55€</td>\n",
       "      <td>https://www.ikea.com/es/es/images/products/lei...</td>\n",
       "      <td>https://www.ikea.com/es/es/p/leifarne-silla-am...</td>\n",
       "    </tr>\n",
       "    <tr>\n",
       "      <th>2</th>\n",
       "      <td>Silla</td>\n",
       "      <td>EKEDALEN</td>\n",
       "      <td>45€</td>\n",
       "      <td>https://www.ikea.com/es/es/images/products/eke...</td>\n",
       "      <td>https://www.ikea.com/es/es/p/ekedalen-silla-bl...</td>\n",
       "    </tr>\n",
       "    <tr>\n",
       "      <th>5</th>\n",
       "      <td>Silla</td>\n",
       "      <td>NORDMYRA</td>\n",
       "      <td>24,99€</td>\n",
       "      <td>https://www.ikea.com/es/es/images/products/nor...</td>\n",
       "      <td>https://www.ikea.com/es/es/p/nordmyra-silla-bl...</td>\n",
       "    </tr>\n",
       "    <tr>\n",
       "      <th>6</th>\n",
       "      <td>Silla</td>\n",
       "      <td>TEODORES</td>\n",
       "      <td>20€</td>\n",
       "      <td>https://www.ikea.com/es/es/images/products/teo...</td>\n",
       "      <td>https://www.ikea.com/es/es/p/teodores-silla-bl...</td>\n",
       "    </tr>\n",
       "    <tr>\n",
       "      <th>...</th>\n",
       "      <td>...</td>\n",
       "      <td>...</td>\n",
       "      <td>...</td>\n",
       "      <td>...</td>\n",
       "      <td>...</td>\n",
       "    </tr>\n",
       "    <tr>\n",
       "      <th>780</th>\n",
       "      <td>Silla</td>\n",
       "      <td>EKEDALEN</td>\n",
       "      <td>55€</td>\n",
       "      <td>https://www.ikea.com/es/es/images/products/eke...</td>\n",
       "      <td>https://www.ikea.com/es/es/p/ekedalen-silla-ne...</td>\n",
       "    </tr>\n",
       "    <tr>\n",
       "      <th>781</th>\n",
       "      <td>Silla</td>\n",
       "      <td>EKEDALEN</td>\n",
       "      <td>55€</td>\n",
       "      <td>https://www.ikea.com/es/es/images/products/eke...</td>\n",
       "      <td>https://www.ikea.com/es/es/p/ekedalen-silla-ma...</td>\n",
       "    </tr>\n",
       "    <tr>\n",
       "      <th>833</th>\n",
       "      <td>Silla</td>\n",
       "      <td>HENRIKSDAL</td>\n",
       "      <td>59€</td>\n",
       "      <td>https://www.ikea.com/es/es/images/products/hen...</td>\n",
       "      <td>https://www.ikea.com/es/es/p/henriksdal-silla-...</td>\n",
       "    </tr>\n",
       "    <tr>\n",
       "      <th>862</th>\n",
       "      <td>Silla</td>\n",
       "      <td>HENRIKSDAL</td>\n",
       "      <td>59€</td>\n",
       "      <td>https://www.ikea.com/es/es/images/products/hen...</td>\n",
       "      <td>https://www.ikea.com/es/es/p/henriksdal-silla-...</td>\n",
       "    </tr>\n",
       "    <tr>\n",
       "      <th>886</th>\n",
       "      <td>Silla</td>\n",
       "      <td>EKEDALEN</td>\n",
       "      <td>55€</td>\n",
       "      <td>https://www.ikea.com/es/es/images/products/eke...</td>\n",
       "      <td>https://www.ikea.com/es/es/p/ekedalen-silla-ro...</td>\n",
       "    </tr>\n",
       "  </tbody>\n",
       "</table>\n",
       "<p>122 rows × 5 columns</p>\n",
       "</div>"
      ],
      "text/plain": [
       "      Type        Name   Price  \\\n",
       "0    Silla      FANBYN     45€   \n",
       "1    Silla    LEIFARNE     55€   \n",
       "2    Silla    EKEDALEN     45€   \n",
       "5    Silla    NORDMYRA  24,99€   \n",
       "6    Silla    TEODORES     20€   \n",
       "..     ...         ...     ...   \n",
       "780  Silla    EKEDALEN     55€   \n",
       "781  Silla    EKEDALEN     55€   \n",
       "833  Silla  HENRIKSDAL     59€   \n",
       "862  Silla  HENRIKSDAL     59€   \n",
       "886  Silla    EKEDALEN     55€   \n",
       "\n",
       "                                             Image_url  \\\n",
       "0    https://www.ikea.com/es/es/images/products/fan...   \n",
       "1    https://www.ikea.com/es/es/images/products/lei...   \n",
       "2    https://www.ikea.com/es/es/images/products/eke...   \n",
       "5    https://www.ikea.com/es/es/images/products/nor...   \n",
       "6    https://www.ikea.com/es/es/images/products/teo...   \n",
       "..                                                 ...   \n",
       "780  https://www.ikea.com/es/es/images/products/eke...   \n",
       "781  https://www.ikea.com/es/es/images/products/eke...   \n",
       "833  https://www.ikea.com/es/es/images/products/hen...   \n",
       "862  https://www.ikea.com/es/es/images/products/hen...   \n",
       "886  https://www.ikea.com/es/es/images/products/eke...   \n",
       "\n",
       "                                               Buy_url  \n",
       "0    https://www.ikea.com/es/es/p/fanbyn-silla-blan...  \n",
       "1    https://www.ikea.com/es/es/p/leifarne-silla-am...  \n",
       "2    https://www.ikea.com/es/es/p/ekedalen-silla-bl...  \n",
       "5    https://www.ikea.com/es/es/p/nordmyra-silla-bl...  \n",
       "6    https://www.ikea.com/es/es/p/teodores-silla-bl...  \n",
       "..                                                 ...  \n",
       "780  https://www.ikea.com/es/es/p/ekedalen-silla-ne...  \n",
       "781  https://www.ikea.com/es/es/p/ekedalen-silla-ma...  \n",
       "833  https://www.ikea.com/es/es/p/henriksdal-silla-...  \n",
       "862  https://www.ikea.com/es/es/p/henriksdal-silla-...  \n",
       "886  https://www.ikea.com/es/es/p/ekedalen-silla-ro...  \n",
       "\n",
       "[122 rows x 5 columns]"
      ]
     },
     "execution_count": 68,
     "metadata": {},
     "output_type": "execute_result"
    }
   ],
   "source": [
    "# display only 'Sillas'\n",
    "furnitures_df[furnitures_df['Type']=='Silla']"
   ]
  },
  {
   "cell_type": "code",
   "execution_count": 77,
   "metadata": {},
   "outputs": [
    {
     "data": {
      "text/html": [
       "<div>\n",
       "<style scoped>\n",
       "    .dataframe tbody tr th:only-of-type {\n",
       "        vertical-align: middle;\n",
       "    }\n",
       "\n",
       "    .dataframe tbody tr th {\n",
       "        vertical-align: top;\n",
       "    }\n",
       "\n",
       "    .dataframe thead th {\n",
       "        text-align: right;\n",
       "    }\n",
       "</style>\n",
       "<table border=\"1\" class=\"dataframe\">\n",
       "  <thead>\n",
       "    <tr style=\"text-align: right;\">\n",
       "      <th></th>\n",
       "      <th>Type</th>\n",
       "      <th>Name</th>\n",
       "      <th>Price</th>\n",
       "      <th>Image_url</th>\n",
       "      <th>Buy_url</th>\n",
       "    </tr>\n",
       "  </thead>\n",
       "  <tbody>\n",
       "    <tr>\n",
       "      <th>0</th>\n",
       "      <td>Silla</td>\n",
       "      <td>FANBYN</td>\n",
       "      <td>45€</td>\n",
       "      <td>https://www.ikea.com/es/es/images/products/fan...</td>\n",
       "      <td>https://www.ikea.com/es/es/p/fanbyn-silla-blan...</td>\n",
       "    </tr>\n",
       "    <tr>\n",
       "      <th>1</th>\n",
       "      <td>Silla</td>\n",
       "      <td>LEIFARNE</td>\n",
       "      <td>55€</td>\n",
       "      <td>https://www.ikea.com/es/es/images/products/lei...</td>\n",
       "      <td>https://www.ikea.com/es/es/p/leifarne-silla-am...</td>\n",
       "    </tr>\n",
       "    <tr>\n",
       "      <th>2</th>\n",
       "      <td>Silla</td>\n",
       "      <td>EKEDALEN</td>\n",
       "      <td>45€</td>\n",
       "      <td>https://www.ikea.com/es/es/images/products/eke...</td>\n",
       "      <td>https://www.ikea.com/es/es/p/ekedalen-silla-bl...</td>\n",
       "    </tr>\n",
       "    <tr>\n",
       "      <th>3</th>\n",
       "      <td>Silla giratoria</td>\n",
       "      <td>ODGER</td>\n",
       "      <td>89€</td>\n",
       "      <td>https://www.ikea.com/es/es/images/products/odg...</td>\n",
       "      <td>https://www.ikea.com/es/es/p/odger-silla-girat...</td>\n",
       "    </tr>\n",
       "    <tr>\n",
       "      <th>4</th>\n",
       "      <td>Silla con reposabrz int/ext</td>\n",
       "      <td>TORPARÖ</td>\n",
       "      <td>25€</td>\n",
       "      <td>https://www.ikea.com/es/es/images/products/tor...</td>\n",
       "      <td>https://www.ikea.com/es/es/p/torparo-silla-con...</td>\n",
       "    </tr>\n",
       "    <tr>\n",
       "      <th>...</th>\n",
       "      <td>...</td>\n",
       "      <td>...</td>\n",
       "      <td>...</td>\n",
       "      <td>...</td>\n",
       "      <td>...</td>\n",
       "    </tr>\n",
       "    <tr>\n",
       "      <th>882</th>\n",
       "      <td>Silla giratoria</td>\n",
       "      <td>SVENBERTIL</td>\n",
       "      <td>49€</td>\n",
       "      <td>https://www.ikea.com/es/es/images/products/sve...</td>\n",
       "      <td>https://www.ikea.com/es/es/p/svenbertil-silla-...</td>\n",
       "    </tr>\n",
       "    <tr>\n",
       "      <th>886</th>\n",
       "      <td>Silla</td>\n",
       "      <td>EKEDALEN</td>\n",
       "      <td>55€</td>\n",
       "      <td>https://www.ikea.com/es/es/images/products/eke...</td>\n",
       "      <td>https://www.ikea.com/es/es/p/ekedalen-silla-ro...</td>\n",
       "    </tr>\n",
       "    <tr>\n",
       "      <th>887</th>\n",
       "      <td>Silla+funda larga</td>\n",
       "      <td>HENRIKSDAL</td>\n",
       "      <td>64€</td>\n",
       "      <td>https://www.ikea.com/es/es/images/products/hen...</td>\n",
       "      <td>https://www.ikea.com/es/es/p/henriksdal-silla-...</td>\n",
       "    </tr>\n",
       "    <tr>\n",
       "      <th>892</th>\n",
       "      <td>Silla de trabajo</td>\n",
       "      <td>LÅNGFJÄLL</td>\n",
       "      <td>149€</td>\n",
       "      <td>https://www.ikea.com/es/es/images/products/lan...</td>\n",
       "      <td>https://www.ikea.com/es/es/p/langfjall-silla-t...</td>\n",
       "    </tr>\n",
       "    <tr>\n",
       "      <th>914</th>\n",
       "      <td>Silla sala de juntas</td>\n",
       "      <td>LÅNGFJÄLL</td>\n",
       "      <td>119€</td>\n",
       "      <td>https://www.ikea.com/es/es/images/products/lan...</td>\n",
       "      <td>https://www.ikea.com/es/es/p/langfjall-silla-s...</td>\n",
       "    </tr>\n",
       "  </tbody>\n",
       "</table>\n",
       "<p>280 rows × 5 columns</p>\n",
       "</div>"
      ],
      "text/plain": [
       "                            Type        Name Price  \\\n",
       "0                          Silla      FANBYN   45€   \n",
       "1                          Silla    LEIFARNE   55€   \n",
       "2                          Silla    EKEDALEN   45€   \n",
       "3                Silla giratoria       ODGER   89€   \n",
       "4    Silla con reposabrz int/ext     TORPARÖ   25€   \n",
       "..                           ...         ...   ...   \n",
       "882              Silla giratoria  SVENBERTIL   49€   \n",
       "886                        Silla    EKEDALEN   55€   \n",
       "887            Silla+funda larga  HENRIKSDAL   64€   \n",
       "892             Silla de trabajo   LÅNGFJÄLL  149€   \n",
       "914         Silla sala de juntas   LÅNGFJÄLL  119€   \n",
       "\n",
       "                                             Image_url  \\\n",
       "0    https://www.ikea.com/es/es/images/products/fan...   \n",
       "1    https://www.ikea.com/es/es/images/products/lei...   \n",
       "2    https://www.ikea.com/es/es/images/products/eke...   \n",
       "3    https://www.ikea.com/es/es/images/products/odg...   \n",
       "4    https://www.ikea.com/es/es/images/products/tor...   \n",
       "..                                                 ...   \n",
       "882  https://www.ikea.com/es/es/images/products/sve...   \n",
       "886  https://www.ikea.com/es/es/images/products/eke...   \n",
       "887  https://www.ikea.com/es/es/images/products/hen...   \n",
       "892  https://www.ikea.com/es/es/images/products/lan...   \n",
       "914  https://www.ikea.com/es/es/images/products/lan...   \n",
       "\n",
       "                                               Buy_url  \n",
       "0    https://www.ikea.com/es/es/p/fanbyn-silla-blan...  \n",
       "1    https://www.ikea.com/es/es/p/leifarne-silla-am...  \n",
       "2    https://www.ikea.com/es/es/p/ekedalen-silla-bl...  \n",
       "3    https://www.ikea.com/es/es/p/odger-silla-girat...  \n",
       "4    https://www.ikea.com/es/es/p/torparo-silla-con...  \n",
       "..                                                 ...  \n",
       "882  https://www.ikea.com/es/es/p/svenbertil-silla-...  \n",
       "886  https://www.ikea.com/es/es/p/ekedalen-silla-ro...  \n",
       "887  https://www.ikea.com/es/es/p/henriksdal-silla-...  \n",
       "892  https://www.ikea.com/es/es/p/langfjall-silla-t...  \n",
       "914  https://www.ikea.com/es/es/p/langfjall-silla-s...  \n",
       "\n",
       "[280 rows x 5 columns]"
      ]
     },
     "execution_count": 77,
     "metadata": {},
     "output_type": "execute_result"
    }
   ],
   "source": [
    "# Filtered final\n",
    "furnitures_df_filtered = furnitures_df[furnitures_df['Type'].str.startswith(\"Silla\")]\n",
    "furnitures_df_filtered"
   ]
  },
  {
   "cell_type": "code",
   "execution_count": 78,
   "metadata": {},
   "outputs": [
    {
     "data": {
      "text/plain": [
       "280"
      ]
     },
     "execution_count": 78,
     "metadata": {},
     "output_type": "execute_result"
    }
   ],
   "source": [
    "len(furnitures_df_filtered['Image_url'])"
   ]
  },
  {
   "cell_type": "markdown",
   "metadata": {},
   "source": [
    "# Saves images filtered:"
   ]
  },
  {
   "cell_type": "code",
   "execution_count": 79,
   "metadata": {},
   "outputs": [],
   "source": [
    "save_img(furnitures_df_filtered['Image_url'],directory)"
   ]
  },
  {
   "cell_type": "markdown",
   "metadata": {},
   "source": [
    "# DataFrame info to .json file:"
   ]
  },
  {
   "cell_type": "code",
   "execution_count": 187,
   "metadata": {},
   "outputs": [],
   "source": [
    "directory_json = 'json'"
   ]
  },
  {
   "cell_type": "code",
   "execution_count": 188,
   "metadata": {},
   "outputs": [
    {
     "data": {
      "text/plain": [
       "'json/img_ikea_Sillas.json'"
      ]
     },
     "execution_count": 188,
     "metadata": {},
     "output_type": "execute_result"
    }
   ],
   "source": [
    "json_path = os.path.join(directory_json,f'{directory}.json')\n",
    "json_path"
   ]
  },
  {
   "cell_type": "code",
   "execution_count": 189,
   "metadata": {},
   "outputs": [],
   "source": [
    "furnitures_df.to_json(json_path)"
   ]
  },
  {
   "cell_type": "markdown",
   "metadata": {},
   "source": [
    "## Close Firefox"
   ]
  },
  {
   "cell_type": "code",
   "execution_count": 190,
   "metadata": {},
   "outputs": [],
   "source": [
    "driver.close()"
   ]
  },
  {
   "cell_type": "code",
   "execution_count": null,
   "metadata": {},
   "outputs": [],
   "source": []
  }
 ],
 "metadata": {
  "kernelspec": {
   "display_name": "proj_env",
   "language": "python",
   "name": "proj_env"
  },
  "language_info": {
   "codemirror_mode": {
    "name": "ipython",
    "version": 3
   },
   "file_extension": ".py",
   "mimetype": "text/x-python",
   "name": "python",
   "nbconvert_exporter": "python",
   "pygments_lexer": "ipython3",
   "version": "3.7.6"
  }
 },
 "nbformat": 4,
 "nbformat_minor": 4
}
