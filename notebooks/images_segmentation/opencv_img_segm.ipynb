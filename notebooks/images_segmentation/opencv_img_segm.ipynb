{
 "cells": [
  {
   "cell_type": "code",
   "execution_count": 1,
   "metadata": {},
   "outputs": [],
   "source": [
    "import cv2 as cv\n",
    "import numpy as np\n",
    "import argparse\n",
    "import random as rng\n",
    "import os"
   ]
  },
  {
   "cell_type": "markdown",
   "metadata": {},
   "source": [
    "## Load the source image and check if it is loaded without any problem, then show it:"
   ]
  },
  {
   "cell_type": "code",
   "execution_count": null,
   "metadata": {},
   "outputs": [],
   "source": [
    "# Load the image\n",
    "'''parser = argparse.ArgumentParser(description='Code for Image Segmentation with Distance Transform and Watershed Algorithm.\\\n",
    "    Sample code showing how to segment overlapping objects using Laplacian filtering, \\\n",
    "    in addition to Watershed and Distance Transformation')\n",
    "parser.add_argument('--input', help='Path to input image.', default='cards.png')\n",
    "args = parser.parse_args()'''\n",
    "\n",
    "\n",
    "# path  \n",
    "path = r'../ikea_scraper/img_users/realtest.jpeg'\n",
    "  \n",
    "# Reading an image in default mode \n",
    "image = cv.imread(path) \n",
    "  \n",
    "# Window name in which image is displayed \n",
    "window_name = 'image'\n",
    "  \n",
    "# Using cv2.imshow() method  \n",
    "# Displaying the image  \n",
    "cv.imshow(window_name, image)  \n",
    "cv.waitKey(0)\n",
    "cv.destroyAllWindows()"
   ]
  },
  {
   "cell_type": "code",
   "execution_count": null,
   "metadata": {},
   "outputs": [],
   "source": [
    "# Change the background from white to black, since that will help later to extract\n",
    "# better results during the use of Distance Transform\n",
    "image[np.all(image == 255, axis=2)] = 0\n",
    "# Show output image\n",
    "cv.imshow('Black Background Image', image)\n",
    "cv.waitKey(0)\n",
    "cv.destroyAllWindows()"
   ]
  },
  {
   "cell_type": "code",
   "execution_count": null,
   "metadata": {},
   "outputs": [],
   "source": []
  }
 ],
 "metadata": {
  "kernelspec": {
   "display_name": "comvis_env",
   "language": "python",
   "name": "comvis_env"
  },
  "language_info": {
   "codemirror_mode": {
    "name": "ipython",
    "version": 3
   },
   "file_extension": ".py",
   "mimetype": "text/x-python",
   "name": "python",
   "nbconvert_exporter": "python",
   "pygments_lexer": "ipython3",
   "version": "3.8.2"
  }
 },
 "nbformat": 4,
 "nbformat_minor": 4
}
