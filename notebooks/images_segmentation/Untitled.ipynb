{
 "cells": [
  {
   "cell_type": "code",
   "execution_count": 1,
   "metadata": {},
   "outputs": [],
   "source": [
    "import cv2"
   ]
  },
  {
   "cell_type": "code",
   "execution_count": 4,
   "metadata": {},
   "outputs": [],
   "source": [
    "def decode_segmap(image, source, nc=21):\n",
    "\n",
    "\n",
    "# Load the foreground input image\n",
    "    foreground = cv2.imread(source)\n",
    "\n",
    " \n",
    "\n",
    "# Change the color of foreground image to RGB\n",
    "\n",
    "# and resize image to match shape of R-band in RGB output map\n",
    "\n",
    "    foreground = cv2.cvtColor(foreground, cv2.COLOR_BGR2RGB)\n",
    "\n",
    "    foreground = cv2.resize(foreground,(r.shape[1],r.shape[0]))\n",
    "\n",
    " \n",
    "\n",
    "# Create a background array to hold white pixels\n",
    "\n",
    "# with the same size as RGB output map\n",
    "\n",
    "    background = 255 * np.ones_like(rgb).astype(np.uint8)\n",
    "\n",
    " \n",
    "\n",
    "# Convert uint8 to float\n",
    "\n",
    "    foreground = foreground.astype(float)\n",
    "\n",
    "    background = background.astype(float)\n",
    "\n",
    " \n",
    "\n",
    "# Create a binary mask of the RGB output map using the threshold value 0\n",
    "\n",
    "    th, alpha = cv2.threshold(np.array(rgb),0,255, cv2.THRESH_BINARY)\n",
    "\n",
    " \n",
    "\n",
    "# Apply a slight blur to the mask to soften edges\n",
    "\n",
    "    alpha = cv2.GaussianBlur(alpha, (7,7),0)\n",
    "\n",
    " \n",
    "\n",
    "# Normalize the alpha mask to keep intensity between 0 and 1\n",
    "\n",
    "    alpha = alpha.astype(float)/255\n",
    "\n",
    " \n",
    "\n",
    "# Multiply the foreground with the alpha matte\n",
    "\n",
    "    foreground = cv2.multiply(alpha, foreground)\n",
    "\n",
    " \n",
    "\n",
    "# Multiply the background with ( 1 - alpha )\n",
    "\n",
    "    background = cv2.multiply(1.0 - alpha, background)\n",
    "\n",
    " \n",
    "\n",
    "# Add the masked foreground and background\n",
    "\n",
    "    outImage = cv2.add(foreground, background)\n",
    "\n",
    " \n",
    "\n",
    "# Return a normalized output image for display\n",
    "\n",
    "    return outImage/255\n"
   ]
  },
  {
   "cell_type": "code",
   "execution_count": 8,
   "metadata": {},
   "outputs": [
    {
     "ename": "NameError",
     "evalue": "name 'dlab' is not defined",
     "output_type": "error",
     "traceback": [
      "\u001b[0;31m---------------------------------------------------------------------------\u001b[0m",
      "\u001b[0;31mNameError\u001b[0m                                 Traceback (most recent call last)",
      "\u001b[0;32m<ipython-input-8-abd183139d2c>\u001b[0m in \u001b[0;36m<module>\u001b[0;34m\u001b[0m\n\u001b[0;32m----> 1\u001b[0;31m \u001b[0mdecode_segmap\u001b[0m\u001b[0;34m(\u001b[0m\u001b[0mdlab\u001b[0m\u001b[0;34m,\u001b[0m \u001b[0;34m'../ikea_scraper/img_users/Imagen 2.jpeg'\u001b[0m\u001b[0;34m,\u001b[0m \u001b[0mshow_orig\u001b[0m\u001b[0;34m=\u001b[0m\u001b[0;32mFalse\u001b[0m\u001b[0;34m)\u001b[0m\u001b[0;34m\u001b[0m\u001b[0;34m\u001b[0m\u001b[0m\n\u001b[0m",
      "\u001b[0;31mNameError\u001b[0m: name 'dlab' is not defined"
     ]
    }
   ],
   "source": [
    "decode_segmap(dlab, '../ikea_scraper/img_users/Imagen 2.jpeg', show_orig=False)"
   ]
  },
  {
   "cell_type": "code",
   "execution_count": null,
   "metadata": {},
   "outputs": [],
   "source": []
  }
 ],
 "metadata": {
  "kernelspec": {
   "display_name": "comvis_env",
   "language": "python",
   "name": "comvis_env"
  },
  "language_info": {
   "codemirror_mode": {
    "name": "ipython",
    "version": 3
   },
   "file_extension": ".py",
   "mimetype": "text/x-python",
   "name": "python",
   "nbconvert_exporter": "python",
   "pygments_lexer": "ipython3",
   "version": "3.8.2"
  }
 },
 "nbformat": 4,
 "nbformat_minor": 4
}
